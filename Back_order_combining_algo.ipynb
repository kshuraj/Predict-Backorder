{
  "nbformat": 4,
  "nbformat_minor": 0,
  "metadata": {
    "colab": {
      "name": "Back_order_combining_algo.ipynb",
      "version": "0.3.2",
      "provenance": [],
      "collapsed_sections": []
    },
    "kernelspec": {
      "display_name": "Python 3",
      "language": "python",
      "name": "python3"
    }
  },
  "cells": [
    {
      "metadata": {
        "id": "x093MFk6TlmK",
        "colab_type": "code",
        "colab": {}
      },
      "cell_type": "code",
      "source": [
        "import numpy as np \n",
        "import pandas as pd "
      ],
      "execution_count": 0,
      "outputs": []
    },
    {
      "metadata": {
        "id": "3y8wlMUJTlmR",
        "colab_type": "code",
        "colab": {}
      },
      "cell_type": "code",
      "source": [
        "x=pd.read_csv(\"train1.csv\")\n",
        "y=pd.read_csv(\"train2.csv\")\n",
        "test=pd.read_csv(\"test_k.csv\")\n",
        "\n"
      ],
      "execution_count": 0,
      "outputs": []
    },
    {
      "metadata": {
        "id": "IiL9LbbCTlmU",
        "colab_type": "code",
        "colab": {},
        "outputId": "79baafdb-6db8-4d4d-f3e7-d22d6d219e5c"
      },
      "cell_type": "code",
      "source": [
        "train=pd.concat([x,y])\n",
        "train.shape"
      ],
      "execution_count": 0,
      "outputs": [
        {
          "output_type": "execute_result",
          "data": {
            "text/plain": [
              "(1587292, 18)"
            ]
          },
          "metadata": {
            "tags": []
          },
          "execution_count": 26
        }
      ]
    },
    {
      "metadata": {
        "id": "kS2iRl-9Tlmd",
        "colab_type": "code",
        "colab": {},
        "outputId": "978277b8-96cf-450d-fa57-e9a220b1a89f"
      },
      "cell_type": "code",
      "source": [
        "train.isnull().values.any()"
      ],
      "execution_count": 0,
      "outputs": [
        {
          "output_type": "execute_result",
          "data": {
            "text/plain": [
              "False"
            ]
          },
          "metadata": {
            "tags": []
          },
          "execution_count": 27
        }
      ]
    },
    {
      "metadata": {
        "id": "_ipMGp1RTlmi",
        "colab_type": "code",
        "colab": {}
      },
      "cell_type": "code",
      "source": [
        "import seaborn as sns\n",
        "from pylab import rcParams\n",
        "%matplotlib inline\n",
        "\n",
        "sns.set(style='whitegrid', palette='muted', font_scale=1.5)\n",
        "\n",
        "rcParams['figure.figsize'] = 14, 8\n"
      ],
      "execution_count": 0,
      "outputs": []
    },
    {
      "metadata": {
        "id": "A1vdsAEbTlml",
        "colab_type": "code",
        "colab": {},
        "outputId": "fc09f3ee-6333-4d58-ca82-20c80f032555"
      },
      "cell_type": "code",
      "source": [
        "\n",
        "import matplotlib.pyplot as plt\n",
        "sns.countplot(x='went_on_backorder', data=train)\n"
      ],
      "execution_count": 0,
      "outputs": [
        {
          "output_type": "execute_result",
          "data": {
            "text/plain": [
              "<matplotlib.axes._subplots.AxesSubplot at 0x24803417b38>"
            ]
          },
          "metadata": {
            "tags": []
          },
          "execution_count": 29
        },
        {
          "output_type": "display_data",
          "data": {
            "image/png": "[encoded data removed]",
            "text/plain": [
              "<matplotlib.figure.Figure at 0x24801ff55f8>"
            ]
          },
          "metadata": {
            "tags": []
          }
        }
      ]
    },
    {
      "metadata": {
        "id": "-uLbHtUbTlmq",
        "colab_type": "code",
        "colab": {},
        "outputId": "ac3c9295-bd53-4ea1-e952-1d098c6c046e"
      },
      "cell_type": "code",
      "source": [
        "counts_df = pd.DataFrame(train.groupby('went_on_backorder').size().rename('counts'))\n",
        "print(counts_df)"
      ],
      "execution_count": 0,
      "outputs": [
        {
          "output_type": "stream",
          "text": [
            "                    counts\n",
            "went_on_backorder         \n",
            "No                 1575999\n",
            "Yes                  11293\n"
          ],
          "name": "stdout"
        }
      ]
    },
    {
      "metadata": {
        "scrolled": true,
        "id": "9JlCDaM4Tlmv",
        "colab_type": "code",
        "colab": {},
        "outputId": "0c28469b-9be5-4887-a4a5-6d927d7aa19c"
      },
      "cell_type": "code",
      "source": [
        "test.head(5)"
      ],
      "execution_count": 0,
      "outputs": [
        {
          "output_type": "execute_result",
          "data": {
            "text/html": [
              "<div>\n",
              "<style>\n",
              "    .dataframe thead tr:only-child th {\n",
              "        text-align: right;\n",
              "    }\n",
              "\n",
              "    .dataframe thead th {\n",
              "        text-align: left;\n",
              "    }\n",
              "\n",
              "    .dataframe tbody tr th {\n",
              "        vertical-align: top;\n",
              "    }\n",
              "</style>\n",
              "<table border=\"1\" class=\"dataframe\">\n",
              "  <thead>\n",
              "    <tr style=\"text-align: right;\">\n",
              "      <th></th>\n",
              "      <th>national_inv</th>\n",
              "      <th>lead_time</th>\n",
              "      <th>in_transit_qty</th>\n",
              "      <th>forecast_3_month</th>\n",
              "      <th>sales_1_month</th>\n",
              "      <th>sales_9_month</th>\n",
              "      <th>min_bank</th>\n",
              "      <th>potential_issue</th>\n",
              "      <th>pieces_past_due</th>\n",
              "      <th>perf_6_month_avg</th>\n",
              "      <th>perf_12_month_avg</th>\n",
              "      <th>local_bo_qty</th>\n",
              "      <th>deck_risk</th>\n",
              "      <th>oe_constraint</th>\n",
              "      <th>ppap_risk</th>\n",
              "      <th>stop_auto_buy</th>\n",
              "      <th>rev_stop</th>\n",
              "      <th>went_on_backorder</th>\n",
              "    </tr>\n",
              "  </thead>\n",
              "  <tbody>\n",
              "    <tr>\n",
              "      <th>0</th>\n",
              "      <td>-0.015845</td>\n",
              "      <td>0.010931</td>\n",
              "      <td>-0.049796</td>\n",
              "      <td>-0.033019</td>\n",
              "      <td>-0.036963</td>\n",
              "      <td>-0.037467</td>\n",
              "      <td>-0.046246</td>\n",
              "      <td>0</td>\n",
              "      <td>-0.010528</td>\n",
              "      <td>0.151589</td>\n",
              "      <td>0.136445</td>\n",
              "      <td>-0.018855</td>\n",
              "      <td>0</td>\n",
              "      <td>0</td>\n",
              "      <td>0</td>\n",
              "      <td>1</td>\n",
              "      <td>0</td>\n",
              "      <td>No</td>\n",
              "    </tr>\n",
              "    <tr>\n",
              "      <th>1</th>\n",
              "      <td>-0.016110</td>\n",
              "      <td>-0.841331</td>\n",
              "      <td>-0.049796</td>\n",
              "      <td>-0.033019</td>\n",
              "      <td>-0.036963</td>\n",
              "      <td>-0.037326</td>\n",
              "      <td>-0.046246</td>\n",
              "      <td>0</td>\n",
              "      <td>-0.010528</td>\n",
              "      <td>0.141472</td>\n",
              "      <td>0.119773</td>\n",
              "      <td>-0.018855</td>\n",
              "      <td>0</td>\n",
              "      <td>0</td>\n",
              "      <td>1</td>\n",
              "      <td>1</td>\n",
              "      <td>0</td>\n",
              "      <td>No</td>\n",
              "    </tr>\n",
              "    <tr>\n",
              "      <th>2</th>\n",
              "      <td>-0.016343</td>\n",
              "      <td>0.010931</td>\n",
              "      <td>-0.049796</td>\n",
              "      <td>-0.033019</td>\n",
              "      <td>-0.036963</td>\n",
              "      <td>-0.037467</td>\n",
              "      <td>-0.046246</td>\n",
              "      <td>0</td>\n",
              "      <td>-0.010528</td>\n",
              "      <td>0.124129</td>\n",
              "      <td>0.116438</td>\n",
              "      <td>-0.018855</td>\n",
              "      <td>0</td>\n",
              "      <td>0</td>\n",
              "      <td>0</td>\n",
              "      <td>1</td>\n",
              "      <td>0</td>\n",
              "      <td>No</td>\n",
              "    </tr>\n",
              "    <tr>\n",
              "      <th>3</th>\n",
              "      <td>-0.015911</td>\n",
              "      <td>-0.841331</td>\n",
              "      <td>-0.049796</td>\n",
              "      <td>-0.033019</td>\n",
              "      <td>-0.036963</td>\n",
              "      <td>-0.037326</td>\n",
              "      <td>-0.046246</td>\n",
              "      <td>0</td>\n",
              "      <td>-0.010528</td>\n",
              "      <td>0.111844</td>\n",
              "      <td>0.113937</td>\n",
              "      <td>-0.018855</td>\n",
              "      <td>0</td>\n",
              "      <td>0</td>\n",
              "      <td>0</td>\n",
              "      <td>1</td>\n",
              "      <td>0</td>\n",
              "      <td>No</td>\n",
              "    </tr>\n",
              "    <tr>\n",
              "      <th>4</th>\n",
              "      <td>-0.009508</td>\n",
              "      <td>1.147279</td>\n",
              "      <td>-0.049796</td>\n",
              "      <td>-0.033019</td>\n",
              "      <td>-0.036963</td>\n",
              "      <td>-0.037467</td>\n",
              "      <td>-0.046246</td>\n",
              "      <td>0</td>\n",
              "      <td>-0.010528</td>\n",
              "      <td>0.132800</td>\n",
              "      <td>0.110603</td>\n",
              "      <td>-0.018855</td>\n",
              "      <td>0</td>\n",
              "      <td>0</td>\n",
              "      <td>0</td>\n",
              "      <td>1</td>\n",
              "      <td>0</td>\n",
              "      <td>No</td>\n",
              "    </tr>\n",
              "  </tbody>\n",
              "</table>\n",
              "</div>"
            ],
            "text/plain": [
              "   national_inv  lead_time  in_transit_qty  forecast_3_month  sales_1_month  \\\n",
              "0     -0.015845   0.010931       -0.049796         -0.033019      -0.036963   \n",
              "1     -0.016110  -0.841331       -0.049796         -0.033019      -0.036963   \n",
              "2     -0.016343   0.010931       -0.049796         -0.033019      -0.036963   \n",
              "3     -0.015911  -0.841331       -0.049796         -0.033019      -0.036963   \n",
              "4     -0.009508   1.147279       -0.049796         -0.033019      -0.036963   \n",
              "\n",
              "   sales_9_month  min_bank  potential_issue  pieces_past_due  \\\n",
              "0      -0.037467 -0.046246                0        -0.010528   \n",
              "1      -0.037326 -0.046246                0        -0.010528   \n",
              "2      -0.037467 -0.046246                0        -0.010528   \n",
              "3      -0.037326 -0.046246                0        -0.010528   \n",
              "4      -0.037467 -0.046246                0        -0.010528   \n",
              "\n",
              "   perf_6_month_avg  perf_12_month_avg  local_bo_qty  deck_risk  \\\n",
              "0          0.151589           0.136445     -0.018855          0   \n",
              "1          0.141472           0.119773     -0.018855          0   \n",
              "2          0.124129           0.116438     -0.018855          0   \n",
              "3          0.111844           0.113937     -0.018855          0   \n",
              "4          0.132800           0.110603     -0.018855          0   \n",
              "\n",
              "   oe_constraint  ppap_risk  stop_auto_buy  rev_stop went_on_backorder  \n",
              "0              0          0              1         0                No  \n",
              "1              0          1              1         0                No  \n",
              "2              0          0              1         0                No  \n",
              "3              0          0              1         0                No  \n",
              "4              0          0              1         0                No  "
            ]
          },
          "metadata": {
            "tags": []
          },
          "execution_count": 31
        }
      ]
    },
    {
      "metadata": {
        "id": "xhl_pf3CTlm0",
        "colab_type": "code",
        "colab": {},
        "outputId": "37f4f6ab-d475-4e6d-a612-f11206df012e"
      },
      "cell_type": "code",
      "source": [
        "train.shape"
      ],
      "execution_count": 0,
      "outputs": [
        {
          "output_type": "execute_result",
          "data": {
            "text/plain": [
              "(51293, 18)"
            ]
          },
          "metadata": {
            "tags": []
          },
          "execution_count": 6
        }
      ]
    },
    {
      "metadata": {
        "id": "IwHkiWHaTlm4",
        "colab_type": "code",
        "colab": {}
      },
      "cell_type": "code",
      "source": [
        "from sklearn.metrics import confusion_matrix\n",
        "from sklearn.metrics import classification_report\n",
        "target_names = ['No','Yes']\n"
      ],
      "execution_count": 0,
      "outputs": []
    },
    {
      "metadata": {
        "id": "9xRutZdKTlm8",
        "colab_type": "text"
      },
      "cell_type": "markdown",
      "source": [
        "Tree based feature selection:"
      ]
    },
    {
      "metadata": {
        "id": "RF_LJlWQTlm_",
        "colab_type": "code",
        "colab": {}
      },
      "cell_type": "code",
      "source": [
        "import sklearn\n",
        "from sklearn.ensemble import ExtraTreesClassifier\n",
        "from sklearn.feature_selection import SelectFromModel\n"
      ],
      "execution_count": 0,
      "outputs": []
    },
    {
      "metadata": {
        "id": "_mvwnGv2TlnD",
        "colab_type": "code",
        "colab": {},
        "outputId": "e68802c0-056b-40c9-dbd5-18203a3580e1"
      },
      "cell_type": "code",
      "source": [
        "features = train.iloc[:,0:17]\n",
        "label = train['went_on_backorder']\n",
        "clf = ExtraTreesClassifier()\n",
        "clf = clf.fit(features, label)\n",
        "model = SelectFromModel(clf, prefit=True)\n",
        "New_features = model.transform(features)\n",
        "print(New_features.shape)"
      ],
      "execution_count": 0,
      "outputs": [
        {
          "output_type": "stream",
          "text": [
            "(1587292, 5)\n"
          ],
          "name": "stdout"
        }
      ]
    },
    {
      "metadata": {
        "id": "dkY8PpV_TlnJ",
        "colab_type": "text"
      },
      "cell_type": "markdown",
      "source": [
        "L1-based feature selection:"
      ]
    },
    {
      "metadata": {
        "id": "2bFyEzSfTlnK",
        "colab_type": "code",
        "colab": {},
        "outputId": "d5cacb83-1863-4c5a-9db1-cf13b27e249e"
      },
      "cell_type": "code",
      "source": [
        "from sklearn.svm import LinearSVC\n",
        "lsvc = LinearSVC(C=0.01, penalty=\"l1\", dual=False).fit(features, label)\n",
        "model_2 = SelectFromModel(lsvc, prefit=True)\n",
        "New_features_2 = model_2.transform(features)\n",
        "print(New_features_2.shape)"
      ],
      "execution_count": 0,
      "outputs": [
        {
          "output_type": "stream",
          "text": [
            "(1587292, 13)\n"
          ],
          "name": "stdout"
        }
      ]
    },
    {
      "metadata": {
        "collapsed": true,
        "id": "r4iIqnOxTlnP",
        "colab_type": "text"
      },
      "cell_type": "markdown",
      "source": [
        "Loading the classifiers."
      ]
    },
    {
      "metadata": {
        "id": "NfsJ8hsGTlnS",
        "colab_type": "code",
        "colab": {}
      },
      "cell_type": "code",
      "source": [
        "from sklearn.tree import DecisionTreeClassifier\n",
        "from sklearn.svm import SVC\n",
        "from sklearn.naive_bayes import GaussianNB\n",
        "from sklearn.neighbors import KNeighborsClassifier\n",
        "from sklearn.linear_model import LogisticRegression\n",
        "from sklearn.ensemble import RandomForestClassifier,GradientBoostingClassifier\n",
        "Classifiers = [LogisticRegression(C=10),DecisionTreeClassifier(),GaussianNB(),GradientBoostingClassifier(n_estimators=200)]"
      ],
      "execution_count": 0,
      "outputs": []
    },
    {
      "metadata": {
        "id": "SvZC0LwDTlnY",
        "colab_type": "text"
      },
      "cell_type": "markdown",
      "source": [
        "Without Feature Selection:"
      ]
    },
    {
      "metadata": {
        "id": "94fHcLPhTlnZ",
        "colab_type": "code",
        "colab": {},
        "outputId": "c3e8dd8d-f29f-4d16-ab5c-930e0b5ca1f1"
      },
      "cell_type": "code",
      "source": [
        "from sklearn.metrics import accuracy_score\n",
        "import timeit\n",
        "test_features= test.iloc[:,0:17]\n",
        "Time_1=[]\n",
        "Model_1=[]\n",
        "Out_Accuracy_1=[]\n",
        "for clf in Classifiers:\n",
        "    start_time = timeit.default_timer()\n",
        "    fit=clf.fit(features,label)\n",
        "    pred=fit.predict(test_features)\n",
        "    print(clf.__class__.__name__)\n",
        "    print(classification_report(test['went_on_backorder'],pred,target_names=target_names))\n",
        "    print(confusion_matrix(test['went_on_backorder'], pred))\n",
        "    print(\"\\n\")\n",
        "    elapsed = timeit.default_timer() - start_time\n",
        "    Time_1.append(elapsed)\n",
        "    Model_1.append(clf.__class__.__name__)\n",
        "    Out_Accuracy_1.append(accuracy_score(test['went_on_backorder'],pred))"
      ],
      "execution_count": 0,
      "outputs": [
        {
          "output_type": "stream",
          "text": [
            "LogisticRegression\n",
            "             precision    recall  f1-score   support\n",
            "\n",
            "         No       0.99      1.00      0.99    224748\n",
            "        Yes       0.00      0.00      0.00      2688\n",
            "\n",
            "avg / total       0.98      0.99      0.98    227436\n",
            "\n",
            "[[224746      2]\n",
            " [  2688      0]]\n",
            "\n",
            "\n",
            "DecisionTreeClassifier\n",
            "             precision    recall  f1-score   support\n",
            "\n",
            "         No       0.99      0.94      0.96    224748\n",
            "        Yes       0.03      0.16      0.05      2688\n",
            "\n",
            "avg / total       0.98      0.93      0.95    227436\n",
            "\n",
            "[[211608  13140]\n",
            " [  2254    434]]\n",
            "\n",
            "\n",
            "GaussianNB\n",
            "             precision    recall  f1-score   support\n",
            "\n",
            "         No       1.00      0.06      0.11    224748\n",
            "        Yes       0.01      0.98      0.02      2688\n",
            "\n",
            "avg / total       0.98      0.07      0.11    227436\n",
            "\n",
            "[[ 13505 211243]\n",
            " [    50   2638]]\n",
            "\n",
            "\n",
            "GradientBoostingClassifier\n",
            "             precision    recall  f1-score   support\n",
            "\n",
            "         No       0.99      1.00      0.99    224748\n",
            "        Yes       0.47      0.03      0.05      2688\n",
            "\n",
            "avg / total       0.98      0.99      0.98    227436\n",
            "\n",
            "[[224665     83]\n",
            " [  2614     74]]\n",
            "\n",
            "\n"
          ],
          "name": "stdout"
        }
      ]
    },
    {
      "metadata": {
        "id": "bTrwe1FQTlng",
        "colab_type": "text"
      },
      "cell_type": "markdown",
      "source": [
        "L1-based feature selection:"
      ]
    },
    {
      "metadata": {
        "id": "bOIJqIfVTlnh",
        "colab_type": "code",
        "colab": {},
        "outputId": "6b6a50e0-37c1-4987-bf88-cc1db12b4b5e"
      },
      "cell_type": "code",
      "source": [
        "test_features= model_2.transform(test.iloc[:,0:17])\n",
        "Time_3=[]\n",
        "Model_3=[]\n",
        "Out_Accuracy_3=[]\n",
        "for clf in Classifiers:\n",
        "    start_time = timeit.default_timer()\n",
        "    fit=clf.fit(New_features_2,label)\n",
        "    pred=fit.predict(test_features)\n",
        "    print(clf.__class__.__name__)\n",
        "    print(classification_report(test['went_on_backorder'],pred,target_names=target_names))\n",
        "    print(confusion_matrix(test['went_on_backorder'], pred))\n",
        "    print(\"\\n\")\n",
        "    elapsed = timeit.default_timer() - start_time\n",
        "    Time_3.append(elapsed)\n",
        "    Model_3.append(clf.__class__.__name__)\n",
        "    Out_Accuracy_3.append(accuracy_score(test['went_on_backorder'],pred))"
      ],
      "execution_count": 0,
      "outputs": [
        {
          "output_type": "stream",
          "text": [
            "LogisticRegression\n",
            "             precision    recall  f1-score   support\n",
            "\n",
            "         No       0.99      1.00      0.99    224748\n",
            "        Yes       0.00      0.00      0.00      2688\n",
            "\n",
            "avg / total       0.98      0.99      0.98    227436\n",
            "\n",
            "[[224745      3]\n",
            " [  2688      0]]\n",
            "\n",
            "\n",
            "DecisionTreeClassifier\n",
            "             precision    recall  f1-score   support\n",
            "\n",
            "         No       0.99      0.97      0.98    224748\n",
            "        Yes       0.05      0.14      0.08      2688\n",
            "\n",
            "avg / total       0.98      0.96      0.97    227436\n",
            "\n",
            "[[217925   6823]\n",
            " [  2311    377]]\n",
            "\n",
            "\n",
            "GaussianNB\n",
            "             precision    recall  f1-score   support\n",
            "\n",
            "         No       1.00      0.08      0.14    224748\n",
            "        Yes       0.01      0.98      0.02      2688\n",
            "\n",
            "avg / total       0.98      0.09      0.14    227436\n",
            "\n",
            "[[ 17088 207660]\n",
            " [    60   2628]]\n",
            "\n",
            "\n",
            "GradientBoostingClassifier\n",
            "             precision    recall  f1-score   support\n",
            "\n",
            "         No       0.99      1.00      0.99    224748\n",
            "        Yes       0.18      0.04      0.07      2688\n",
            "\n",
            "avg / total       0.98      0.99      0.98    227436\n",
            "\n",
            "[[224214    534]\n",
            " [  2573    115]]\n",
            "\n",
            "\n"
          ],
          "name": "stdout"
        }
      ]
    },
    {
      "metadata": {
        "id": "uanxurTPTlno",
        "colab_type": "text"
      },
      "cell_type": "markdown",
      "source": [
        "Tree-Based feature selection:"
      ]
    },
    {
      "metadata": {
        "id": "pkpS6kWDTlnp",
        "colab_type": "code",
        "colab": {},
        "outputId": "6ac8eb8f-a79d-4d13-8c88-566e8452753d"
      },
      "cell_type": "code",
      "source": [
        "test_features= model.transform(test.iloc[:,0:17])\n",
        "Time_2=[]\n",
        "Model_2=[]\n",
        "Out_Accuracy_2=[]\n",
        "for clf in Classifiers:\n",
        "    start_time = timeit.default_timer()\n",
        "    fit=clf.fit(New_features,label)\n",
        "    pred=fit.predict(test_features)\n",
        "    print(clf.__class__.__name__)\n",
        "    print(classification_report(test['went_on_backorder'],pred,target_names=target_names))\n",
        "    print(confusion_matrix(test['went_on_backorder'], pred))\n",
        "    print(\"\\n\")\n",
        "    elapsed = timeit.default_timer() - start_time\n",
        "    Time_2.append(elapsed)\n",
        "    Model_2.append(clf.__class__.__name__)\n",
        "    Out_Accuracy_2.append(accuracy_score(test['went_on_backorder'],pred))"
      ],
      "execution_count": 0,
      "outputs": [
        {
          "output_type": "stream",
          "text": [
            "LogisticRegression\n",
            "             precision    recall  f1-score   support\n",
            "\n",
            "         No       0.99      1.00      0.99    224748\n",
            "        Yes       0.00      0.00      0.00      2688\n",
            "\n",
            "avg / total       0.98      0.99      0.98    227436\n",
            "\n",
            "[[224744      4]\n",
            " [  2688      0]]\n",
            "\n",
            "\n",
            "DecisionTreeClassifier\n",
            "             precision    recall  f1-score   support\n",
            "\n",
            "         No       0.99      0.63      0.77    224748\n",
            "        Yes       0.02      0.52      0.03      2688\n",
            "\n",
            "avg / total       0.98      0.63      0.76    227436\n",
            "\n",
            "[[142026  82722]\n",
            " [  1279   1409]]\n",
            "\n",
            "\n",
            "GaussianNB\n",
            "             precision    recall  f1-score   support\n",
            "\n",
            "         No       0.99      0.04      0.08    224748\n",
            "        Yes       0.01      0.98      0.02      2688\n",
            "\n",
            "avg / total       0.98      0.05      0.08    227436\n",
            "\n",
            "[[  9031 215717]\n",
            " [    47   2641]]\n",
            "\n",
            "\n",
            "GradientBoostingClassifier\n",
            "             precision    recall  f1-score   support\n",
            "\n",
            "         No       0.99      1.00      0.99    224748\n",
            "        Yes       0.20      0.00      0.00      2688\n",
            "\n",
            "avg / total       0.98      0.99      0.98    227436\n",
            "\n",
            "[[224736     12]\n",
            " [  2685      3]]\n",
            "\n",
            "\n"
          ],
          "name": "stdout"
        }
      ]
    },
    {
      "metadata": {
        "id": "WPVfwx_LTlnu",
        "colab_type": "text"
      },
      "cell_type": "markdown",
      "source": [
        "Accuracy of the models:"
      ]
    },
    {
      "metadata": {
        "id": "-AzgXmN2Tlnw",
        "colab_type": "code",
        "colab": {},
        "outputId": "6fc0dcbb-7f30-4179-a7f8-1752b9253cc8"
      },
      "cell_type": "code",
      "source": [
        "import matplotlib.pyplot as plt\n",
        "import numpy as np\n",
        "%matplotlib inline\n",
        "ind =  np.arange(4)   # the x locations for the groups\n",
        "width = 0.1     # the width of the bars\n",
        "fig, ax = plt.subplots()\n",
        "rects1 = ax.bar(ind, Out_Accuracy_1, width, color='r')\n",
        "rects2 = ax.bar(ind + width, Out_Accuracy_2, width, color='y')\n",
        "rects3 = ax.bar(ind + width + width ,Out_Accuracy_3, width, color='b')\n",
        "ax.set_ylabel('Accuracy')\n",
        "ax.set_title('Accuracy by Models and Selection Process')\n",
        "ax.set_xticks(ind + width)\n",
        "ax.set_xticklabels(Model_3,rotation=60)\n",
        "plt.show()"
      ],
      "execution_count": 0,
      "outputs": [
        {
          "output_type": "display_data",
          "data": {
            "image/png": "[encoded data removed]",
            "text/plain": [
              "<matplotlib.figure.Figure at 0x248033f05c0>"
            ]
          },
          "metadata": {
            "tags": []
          }
        }
      ]
    },
    {
      "metadata": {
        "id": "HZkDGMHHTln1",
        "colab_type": "text"
      },
      "cell_type": "markdown",
      "source": [
        "Runtime of the models:"
      ]
    },
    {
      "metadata": {
        "id": "Dyrclv00Tln3",
        "colab_type": "code",
        "colab": {},
        "outputId": "1ef489e2-ad2b-4eac-b8ac-2f2d16087dbf"
      },
      "cell_type": "code",
      "source": [
        "import matplotlib.pyplot as plt\n",
        "import numpy as np\n",
        "%matplotlib inline\n",
        "ind =  np.arange(4)   # the x locations for the groups\n",
        "width = 0.1       # the width of the bars\n",
        "fig, ax = plt.subplots()\n",
        "rects1 = ax.bar(ind, Time_1, width, color='r')\n",
        "rects2 = ax.bar(ind + width, Time_2, width, color='y')\n",
        "rects3 = ax.bar(ind + width + width ,Time_3, width, color='b')\n",
        "ax.set_ylabel('Running Time')\n",
        "ax.set_title('Time by Models and Selection Process')\n",
        "ax.set_xticks(ind + width)\n",
        "ax.set_xticklabels(Model_3,rotation=60)\n",
        "ax.legend((rects1[0], rects2[0],rects3[0]), ('No Selection', 'Tree_Based','L1_Based'))\n",
        "plt.show()"
      ],
      "execution_count": 0,
      "outputs": [
        {
          "output_type": "display_data",
          "data": {
            "image/png": "[encoded data removed]",
            "text/plain": [
              "<matplotlib.figure.Figure at 0x248705ac0f0>"
            ]
          },
          "metadata": {
            "tags": []
          }
        }
      ]
    },
    {
      "metadata": {
        "id": "vAli6PnaTln8",
        "colab_type": "code",
        "colab": {}
      },
      "cell_type": "code",
      "source": [
        ""
      ],
      "execution_count": 0,
      "outputs": []
    }
  ]
}