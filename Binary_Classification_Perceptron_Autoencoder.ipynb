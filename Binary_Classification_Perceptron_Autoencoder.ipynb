{
  "nbformat": 4,
  "nbformat_minor": 0,
  "metadata": {
    "colab": {
      "name": "02-Binary Classification_Perceptron_Autoencoder.ipynb",
      "version": "0.3.2",
      "provenance": [],
      "collapsed_sections": [
        "ycckirvDSouV",
        "BKfHEVi-Sovv"
      ]
    },
    "kernelspec": {
      "display_name": "Python 3",
      "language": "python",
      "name": "python3"
    }
  },
  "cells": [
    {
      "metadata": {
        "id": "1utQWGmVSotY",
        "colab_type": "text"
      },
      "cell_type": "markdown",
      "source": [
        "##  Binary Classification using Perception, MLP and Autoencoder"
      ]
    },
    {
      "metadata": {
        "id": "klq3q8AvSota",
        "colab_type": "text"
      },
      "cell_type": "markdown",
      "source": [
        "#### Loading the required libraries"
      ]
    },
    {
      "metadata": {
        "id": "sXA6VgdzSotc",
        "colab_type": "code",
        "colab": {},
        "outputId": "db0c5414-8940-4b53-bb29-4d20e2589149"
      },
      "cell_type": "code",
      "source": [
        "import pandas as pd\n",
        "import numpy as np\n",
        "\n",
        "from sklearn.model_selection import train_test_split\n",
        "from sklearn.metrics import confusion_matrix, roc_curve, auc\n",
        "\n",
        "from keras.models import Sequential, Model\n",
        "from keras.layers import Dense, Input\n",
        "from keras.layers.normalization import BatchNormalization\n",
        "from keras.utils import to_categorical\n",
        "\n",
        "import matplotlib.pyplot as plt"
      ],
      "execution_count": 0,
      "outputs": [
        {
          "output_type": "stream",
          "text": [
            "C:\\Users\\keerthi\\Anaconda3\\lib\\site-packages\\h5py\\__init__.py:34: FutureWarning: Conversion of the second argument of issubdtype from `float` to `np.floating` is deprecated. In future, it will be treated as `np.float64 == np.dtype(float).type`.\n",
            "  from ._conv import register_converters as _register_converters\n",
            "Using TensorFlow backend.\n"
          ],
          "name": "stderr"
        }
      ]
    },
    {
      "metadata": {
        "id": "rCqXREz9Soti",
        "colab_type": "code",
        "colab": {}
      },
      "cell_type": "code",
      "source": [
        "import os\n",
        "os.chdir(\"F:\\\\predict-bo-trial\")"
      ],
      "execution_count": 0,
      "outputs": []
    },
    {
      "metadata": {
        "id": "XmvRb8WzSotn",
        "colab_type": "text"
      },
      "cell_type": "markdown",
      "source": [
        "#### Problem\n",
        "\n",
        "    Is to identify products at risk of backorder before the event occurs so the business has time to react. "
      ]
    },
    {
      "metadata": {
        "id": "V5Bxg5gvSotn",
        "colab_type": "text"
      },
      "cell_type": "markdown",
      "source": [
        "#### Data\n",
        "\n",
        "Data file contains the historical data for the 8 weeks prior to the week we are trying to predict. The data was taken as weekly snapshots at the start of each week. Columns are defined as follows:\n",
        "\n",
        "    sku - Random ID for the product\n",
        "\n",
        "    national_inv - Current inventory level for the part\n",
        "\n",
        "    lead_time - Transit time for product (if available)\n",
        "\n",
        "    in_transit_qty - Amount of product in transit from source\n",
        "\n",
        "    forecast_3_month - Forecast sales for the next 3 months\n",
        "\n",
        "    forecast_6_month - Forecast sales for the next 6 months\n",
        "\n",
        "    forecast_9_month - Forecast sales for the next 9 months\n",
        "\n",
        "    sales_1_month - Sales quantity for the prior 1 month time period\n",
        "\n",
        "    sales_3_month - Sales quantity for the prior 3 month time period\n",
        "\n",
        "    sales_6_month - Sales quantity for the prior 6 month time period\n",
        "\n",
        "    sales_9_month - Sales quantity for the prior 9 month time period\n",
        "\n",
        "    min_bank - Minimum recommend amount to stock\n",
        "\n",
        "    potential_issue - Source issue for part identified\n",
        "\n",
        "    pieces_past_due - Parts overdue from source\n",
        "\n",
        "    perf_6_month_avg - Source performance for prior 6 month period\n",
        "\n",
        "    perf_12_month_avg - Source performance for prior 12 month period\n",
        "\n",
        "    local_bo_qty - Amount of stock orders overdue\n",
        "\n",
        "    deck_risk - Part risk flag\n",
        "\n",
        "    oe_constraint - Part risk flag\n",
        "\n",
        "    ppap_risk - Part risk flag\n",
        "\n",
        "    stop_auto_buy - Part risk flag\n",
        "\n",
        "    rev_stop - Part risk flag\n",
        "\n",
        "    went_on_backorder - Product actually went on backorder. This is the target value."
      ]
    },
    {
      "metadata": {
        "id": "8-4KhlA5Soto",
        "colab_type": "text"
      },
      "cell_type": "markdown",
      "source": [
        "#### Loading the data"
      ]
    },
    {
      "metadata": {
        "id": "xkzqbeSFSotq",
        "colab_type": "code",
        "colab": {}
      },
      "cell_type": "code",
      "source": [
        "data = pd.read_csv(\"strain.csv\",header=0)\n"
      ],
      "execution_count": 0,
      "outputs": []
    },
    {
      "metadata": {
        "id": "TI8wVHeYSott",
        "colab_type": "code",
        "colab": {},
        "outputId": "61615f8a-f440-4c0e-d30b-b650dfd21e65"
      },
      "cell_type": "code",
      "source": [
        "data1 = pd.read_csv(\"test.csv\",header=0)"
      ],
      "execution_count": 0,
      "outputs": [
        {
          "output_type": "stream",
          "text": [
            "C:\\Users\\keerthi\\Anaconda3\\lib\\site-packages\\IPython\\core\\interactiveshell.py:2698: DtypeWarning: Columns (0) have mixed types. Specify dtype option on import or set low_memory=False.\n",
            "  interactivity=interactivity, compiler=compiler, result=result)\n"
          ],
          "name": "stderr"
        }
      ]
    },
    {
      "metadata": {
        "id": "0-pycbq0Soty",
        "colab_type": "text"
      },
      "cell_type": "markdown",
      "source": [
        "#### Understand the Data"
      ]
    },
    {
      "metadata": {
        "id": "IVQ3SU_QSotz",
        "colab_type": "text"
      },
      "cell_type": "markdown",
      "source": [
        "See the No. row and columns"
      ]
    },
    {
      "metadata": {
        "id": "aaiU0DXVSot1",
        "colab_type": "code",
        "colab": {},
        "outputId": "d913e60a-2ae4-4948-85de-ca86d4a56817"
      },
      "cell_type": "code",
      "source": [
        "data.shape\n"
      ],
      "execution_count": 0,
      "outputs": [
        {
          "output_type": "execute_result",
          "data": {
            "text/plain": [
              "(1687861, 23)"
            ]
          },
          "metadata": {
            "tags": []
          },
          "execution_count": 7
        }
      ]
    },
    {
      "metadata": {
        "id": "nl0JkrR3Sot5",
        "colab_type": "text"
      },
      "cell_type": "markdown",
      "source": [
        "Display the columns"
      ]
    },
    {
      "metadata": {
        "id": "EOWOXYe5Sot6",
        "colab_type": "code",
        "colab": {},
        "outputId": "08cc2470-46d9-41a2-8b09-cafe8f01e2fc"
      },
      "cell_type": "code",
      "source": [
        "data.columns"
      ],
      "execution_count": 0,
      "outputs": [
        {
          "output_type": "execute_result",
          "data": {
            "text/plain": [
              "Index(['sku', 'national_inv', 'lead_time', 'in_transit_qty',\n",
              "       'forecast_3_month', 'forecast_6_month', 'forecast_9_month',\n",
              "       'sales_1_month', 'sales_3_month', 'sales_6_month', 'sales_9_month',\n",
              "       'min_bank', 'potential_issue', 'pieces_past_due', 'perf_6_month_avg',\n",
              "       'perf_12_month_avg', 'local_bo_qty', 'deck_risk', 'oe_constraint',\n",
              "       'ppap_risk', 'stop_auto_buy', 'rev_stop', 'went_on_backorder'],\n",
              "      dtype='object')"
            ]
          },
          "metadata": {
            "tags": []
          },
          "execution_count": 8
        }
      ]
    },
    {
      "metadata": {
        "id": "w1H1b2S_Sot_",
        "colab_type": "text"
      },
      "cell_type": "markdown",
      "source": [
        "Display the index"
      ]
    },
    {
      "metadata": {
        "id": "GWvsFSGiSouA",
        "colab_type": "code",
        "colab": {},
        "outputId": "90bc6ea2-1dcf-414e-fdb1-39efa8c99fdd"
      },
      "cell_type": "code",
      "source": [
        "data.index"
      ],
      "execution_count": 0,
      "outputs": [
        {
          "output_type": "execute_result",
          "data": {
            "text/plain": [
              "RangeIndex(start=0, stop=1687861, step=1)"
            ]
          },
          "metadata": {
            "tags": []
          },
          "execution_count": 9
        }
      ]
    },
    {
      "metadata": {
        "id": "UYXoMUzhSouE",
        "colab_type": "text"
      },
      "cell_type": "markdown",
      "source": [
        "See the top rows of the data"
      ]
    },
    {
      "metadata": {
        "id": "rPJi8u6QSouF",
        "colab_type": "code",
        "colab": {},
        "outputId": "1e7a660b-efdf-40e6-ec22-8fadb06fa77d"
      },
      "cell_type": "code",
      "source": [
        "data[:3]"
      ],
      "execution_count": 0,
      "outputs": [
        {
          "output_type": "execute_result",
          "data": {
            "text/html": [
              "<div>\n",
              "<style>\n",
              "    .dataframe thead tr:only-child th {\n",
              "        text-align: right;\n",
              "    }\n",
              "\n",
              "    .dataframe thead th {\n",
              "        text-align: left;\n",
              "    }\n",
              "\n",
              "    .dataframe tbody tr th {\n",
              "        vertical-align: top;\n",
              "    }\n",
              "</style>\n",
              "<table border=\"1\" class=\"dataframe\">\n",
              "  <thead>\n",
              "    <tr style=\"text-align: right;\">\n",
              "      <th></th>\n",
              "      <th>sku</th>\n",
              "      <th>national_inv</th>\n",
              "      <th>lead_time</th>\n",
              "      <th>in_transit_qty</th>\n",
              "      <th>forecast_3_month</th>\n",
              "      <th>forecast_6_month</th>\n",
              "      <th>forecast_9_month</th>\n",
              "      <th>sales_1_month</th>\n",
              "      <th>sales_3_month</th>\n",
              "      <th>sales_6_month</th>\n",
              "      <th>...</th>\n",
              "      <th>pieces_past_due</th>\n",
              "      <th>perf_6_month_avg</th>\n",
              "      <th>perf_12_month_avg</th>\n",
              "      <th>local_bo_qty</th>\n",
              "      <th>deck_risk</th>\n",
              "      <th>oe_constraint</th>\n",
              "      <th>ppap_risk</th>\n",
              "      <th>stop_auto_buy</th>\n",
              "      <th>rev_stop</th>\n",
              "      <th>went_on_backorder</th>\n",
              "    </tr>\n",
              "  </thead>\n",
              "  <tbody>\n",
              "    <tr>\n",
              "      <th>0</th>\n",
              "      <td>1026827</td>\n",
              "      <td>0.0</td>\n",
              "      <td>NaN</td>\n",
              "      <td>0.0</td>\n",
              "      <td>0.0</td>\n",
              "      <td>0.0</td>\n",
              "      <td>0.0</td>\n",
              "      <td>0.0</td>\n",
              "      <td>0.0</td>\n",
              "      <td>0.0</td>\n",
              "      <td>...</td>\n",
              "      <td>0.0</td>\n",
              "      <td>-99.00</td>\n",
              "      <td>-99.00</td>\n",
              "      <td>0.0</td>\n",
              "      <td>No</td>\n",
              "      <td>No</td>\n",
              "      <td>No</td>\n",
              "      <td>Yes</td>\n",
              "      <td>No</td>\n",
              "      <td>No</td>\n",
              "    </tr>\n",
              "    <tr>\n",
              "      <th>1</th>\n",
              "      <td>1043384</td>\n",
              "      <td>2.0</td>\n",
              "      <td>9.0</td>\n",
              "      <td>0.0</td>\n",
              "      <td>0.0</td>\n",
              "      <td>0.0</td>\n",
              "      <td>0.0</td>\n",
              "      <td>0.0</td>\n",
              "      <td>0.0</td>\n",
              "      <td>0.0</td>\n",
              "      <td>...</td>\n",
              "      <td>0.0</td>\n",
              "      <td>0.99</td>\n",
              "      <td>0.99</td>\n",
              "      <td>0.0</td>\n",
              "      <td>No</td>\n",
              "      <td>No</td>\n",
              "      <td>No</td>\n",
              "      <td>Yes</td>\n",
              "      <td>No</td>\n",
              "      <td>No</td>\n",
              "    </tr>\n",
              "    <tr>\n",
              "      <th>2</th>\n",
              "      <td>1043696</td>\n",
              "      <td>2.0</td>\n",
              "      <td>NaN</td>\n",
              "      <td>0.0</td>\n",
              "      <td>0.0</td>\n",
              "      <td>0.0</td>\n",
              "      <td>0.0</td>\n",
              "      <td>0.0</td>\n",
              "      <td>0.0</td>\n",
              "      <td>0.0</td>\n",
              "      <td>...</td>\n",
              "      <td>0.0</td>\n",
              "      <td>-99.00</td>\n",
              "      <td>-99.00</td>\n",
              "      <td>0.0</td>\n",
              "      <td>Yes</td>\n",
              "      <td>No</td>\n",
              "      <td>No</td>\n",
              "      <td>Yes</td>\n",
              "      <td>No</td>\n",
              "      <td>No</td>\n",
              "    </tr>\n",
              "  </tbody>\n",
              "</table>\n",
              "<p>3 rows × 23 columns</p>\n",
              "</div>"
            ],
            "text/plain": [
              "       sku  national_inv  lead_time  in_transit_qty  forecast_3_month  \\\n",
              "0  1026827           0.0        NaN             0.0               0.0   \n",
              "1  1043384           2.0        9.0             0.0               0.0   \n",
              "2  1043696           2.0        NaN             0.0               0.0   \n",
              "\n",
              "   forecast_6_month  forecast_9_month  sales_1_month  sales_3_month  \\\n",
              "0               0.0               0.0            0.0            0.0   \n",
              "1               0.0               0.0            0.0            0.0   \n",
              "2               0.0               0.0            0.0            0.0   \n",
              "\n",
              "   sales_6_month        ...         pieces_past_due  perf_6_month_avg  \\\n",
              "0            0.0        ...                     0.0            -99.00   \n",
              "1            0.0        ...                     0.0              0.99   \n",
              "2            0.0        ...                     0.0            -99.00   \n",
              "\n",
              "  perf_12_month_avg  local_bo_qty  deck_risk  oe_constraint  ppap_risk  \\\n",
              "0            -99.00           0.0         No             No         No   \n",
              "1              0.99           0.0         No             No         No   \n",
              "2            -99.00           0.0        Yes             No         No   \n",
              "\n",
              "  stop_auto_buy rev_stop went_on_backorder  \n",
              "0           Yes       No                No  \n",
              "1           Yes       No                No  \n",
              "2           Yes       No                No  \n",
              "\n",
              "[3 rows x 23 columns]"
            ]
          },
          "metadata": {
            "tags": []
          },
          "execution_count": 10
        }
      ]
    },
    {
      "metadata": {
        "id": "dCf0TRPPSouK",
        "colab_type": "text"
      },
      "cell_type": "markdown",
      "source": [
        "Shows a quick statistic summary of your data using describe"
      ]
    },
    {
      "metadata": {
        "scrolled": true,
        "id": "8lQPNpNzSouL",
        "colab_type": "code",
        "colab": {},
        "outputId": "dba2a6b2-cbb8-4fe8-985c-18cee88cbb55"
      },
      "cell_type": "code",
      "source": [
        "data.describe(include='all')"
      ],
      "execution_count": 0,
      "outputs": [
        {
          "output_type": "execute_result",
          "data": {
            "text/html": [
              "<div>\n",
              "<style>\n",
              "    .dataframe thead tr:only-child th {\n",
              "        text-align: right;\n",
              "    }\n",
              "\n",
              "    .dataframe thead th {\n",
              "        text-align: left;\n",
              "    }\n",
              "\n",
              "    .dataframe tbody tr th {\n",
              "        vertical-align: top;\n",
              "    }\n",
              "</style>\n",
              "<table border=\"1\" class=\"dataframe\">\n",
              "  <thead>\n",
              "    <tr style=\"text-align: right;\">\n",
              "      <th></th>\n",
              "      <th>sku</th>\n",
              "      <th>national_inv</th>\n",
              "      <th>lead_time</th>\n",
              "      <th>in_transit_qty</th>\n",
              "      <th>forecast_3_month</th>\n",
              "      <th>forecast_6_month</th>\n",
              "      <th>forecast_9_month</th>\n",
              "      <th>sales_1_month</th>\n",
              "      <th>sales_3_month</th>\n",
              "      <th>sales_6_month</th>\n",
              "      <th>...</th>\n",
              "      <th>pieces_past_due</th>\n",
              "      <th>perf_6_month_avg</th>\n",
              "      <th>perf_12_month_avg</th>\n",
              "      <th>local_bo_qty</th>\n",
              "      <th>deck_risk</th>\n",
              "      <th>oe_constraint</th>\n",
              "      <th>ppap_risk</th>\n",
              "      <th>stop_auto_buy</th>\n",
              "      <th>rev_stop</th>\n",
              "      <th>went_on_backorder</th>\n",
              "    </tr>\n",
              "  </thead>\n",
              "  <tbody>\n",
              "    <tr>\n",
              "      <th>count</th>\n",
              "      <td>1687861</td>\n",
              "      <td>1.687860e+06</td>\n",
              "      <td>1.586967e+06</td>\n",
              "      <td>1.687860e+06</td>\n",
              "      <td>1.687860e+06</td>\n",
              "      <td>1.687860e+06</td>\n",
              "      <td>1.687860e+06</td>\n",
              "      <td>1.687860e+06</td>\n",
              "      <td>1.687860e+06</td>\n",
              "      <td>1.687860e+06</td>\n",
              "      <td>...</td>\n",
              "      <td>1.687860e+06</td>\n",
              "      <td>1.687860e+06</td>\n",
              "      <td>1.687860e+06</td>\n",
              "      <td>1.687860e+06</td>\n",
              "      <td>1687860</td>\n",
              "      <td>1687860</td>\n",
              "      <td>1687860</td>\n",
              "      <td>1687860</td>\n",
              "      <td>1687860</td>\n",
              "      <td>1687860</td>\n",
              "    </tr>\n",
              "    <tr>\n",
              "      <th>unique</th>\n",
              "      <td>1687861</td>\n",
              "      <td>NaN</td>\n",
              "      <td>NaN</td>\n",
              "      <td>NaN</td>\n",
              "      <td>NaN</td>\n",
              "      <td>NaN</td>\n",
              "      <td>NaN</td>\n",
              "      <td>NaN</td>\n",
              "      <td>NaN</td>\n",
              "      <td>NaN</td>\n",
              "      <td>...</td>\n",
              "      <td>NaN</td>\n",
              "      <td>NaN</td>\n",
              "      <td>NaN</td>\n",
              "      <td>NaN</td>\n",
              "      <td>2</td>\n",
              "      <td>2</td>\n",
              "      <td>2</td>\n",
              "      <td>2</td>\n",
              "      <td>2</td>\n",
              "      <td>2</td>\n",
              "    </tr>\n",
              "    <tr>\n",
              "      <th>top</th>\n",
              "      <td>3284473</td>\n",
              "      <td>NaN</td>\n",
              "      <td>NaN</td>\n",
              "      <td>NaN</td>\n",
              "      <td>NaN</td>\n",
              "      <td>NaN</td>\n",
              "      <td>NaN</td>\n",
              "      <td>NaN</td>\n",
              "      <td>NaN</td>\n",
              "      <td>NaN</td>\n",
              "      <td>...</td>\n",
              "      <td>NaN</td>\n",
              "      <td>NaN</td>\n",
              "      <td>NaN</td>\n",
              "      <td>NaN</td>\n",
              "      <td>No</td>\n",
              "      <td>No</td>\n",
              "      <td>No</td>\n",
              "      <td>Yes</td>\n",
              "      <td>No</td>\n",
              "      <td>No</td>\n",
              "    </tr>\n",
              "    <tr>\n",
              "      <th>freq</th>\n",
              "      <td>1</td>\n",
              "      <td>NaN</td>\n",
              "      <td>NaN</td>\n",
              "      <td>NaN</td>\n",
              "      <td>NaN</td>\n",
              "      <td>NaN</td>\n",
              "      <td>NaN</td>\n",
              "      <td>NaN</td>\n",
              "      <td>NaN</td>\n",
              "      <td>NaN</td>\n",
              "      <td>...</td>\n",
              "      <td>NaN</td>\n",
              "      <td>NaN</td>\n",
              "      <td>NaN</td>\n",
              "      <td>NaN</td>\n",
              "      <td>1300377</td>\n",
              "      <td>1687615</td>\n",
              "      <td>1484026</td>\n",
              "      <td>1626774</td>\n",
              "      <td>1687129</td>\n",
              "      <td>1676567</td>\n",
              "    </tr>\n",
              "    <tr>\n",
              "      <th>mean</th>\n",
              "      <td>NaN</td>\n",
              "      <td>4.961118e+02</td>\n",
              "      <td>7.872267e+00</td>\n",
              "      <td>4.405202e+01</td>\n",
              "      <td>1.781193e+02</td>\n",
              "      <td>3.449867e+02</td>\n",
              "      <td>5.063644e+02</td>\n",
              "      <td>5.592607e+01</td>\n",
              "      <td>1.750259e+02</td>\n",
              "      <td>3.417288e+02</td>\n",
              "      <td>...</td>\n",
              "      <td>2.043724e+00</td>\n",
              "      <td>-6.872059e+00</td>\n",
              "      <td>-6.437947e+00</td>\n",
              "      <td>6.264507e-01</td>\n",
              "      <td>NaN</td>\n",
              "      <td>NaN</td>\n",
              "      <td>NaN</td>\n",
              "      <td>NaN</td>\n",
              "      <td>NaN</td>\n",
              "      <td>NaN</td>\n",
              "    </tr>\n",
              "    <tr>\n",
              "      <th>std</th>\n",
              "      <td>NaN</td>\n",
              "      <td>2.961523e+04</td>\n",
              "      <td>7.056024e+00</td>\n",
              "      <td>1.342742e+03</td>\n",
              "      <td>5.026553e+03</td>\n",
              "      <td>9.795152e+03</td>\n",
              "      <td>1.437892e+04</td>\n",
              "      <td>1.928196e+03</td>\n",
              "      <td>5.192378e+03</td>\n",
              "      <td>9.613167e+03</td>\n",
              "      <td>...</td>\n",
              "      <td>2.360165e+02</td>\n",
              "      <td>2.655636e+01</td>\n",
              "      <td>2.584333e+01</td>\n",
              "      <td>3.372224e+01</td>\n",
              "      <td>NaN</td>\n",
              "      <td>NaN</td>\n",
              "      <td>NaN</td>\n",
              "      <td>NaN</td>\n",
              "      <td>NaN</td>\n",
              "      <td>NaN</td>\n",
              "    </tr>\n",
              "    <tr>\n",
              "      <th>min</th>\n",
              "      <td>NaN</td>\n",
              "      <td>-2.725600e+04</td>\n",
              "      <td>0.000000e+00</td>\n",
              "      <td>0.000000e+00</td>\n",
              "      <td>0.000000e+00</td>\n",
              "      <td>0.000000e+00</td>\n",
              "      <td>0.000000e+00</td>\n",
              "      <td>0.000000e+00</td>\n",
              "      <td>0.000000e+00</td>\n",
              "      <td>0.000000e+00</td>\n",
              "      <td>...</td>\n",
              "      <td>0.000000e+00</td>\n",
              "      <td>-9.900000e+01</td>\n",
              "      <td>-9.900000e+01</td>\n",
              "      <td>0.000000e+00</td>\n",
              "      <td>NaN</td>\n",
              "      <td>NaN</td>\n",
              "      <td>NaN</td>\n",
              "      <td>NaN</td>\n",
              "      <td>NaN</td>\n",
              "      <td>NaN</td>\n",
              "    </tr>\n",
              "    <tr>\n",
              "      <th>25%</th>\n",
              "      <td>NaN</td>\n",
              "      <td>4.000000e+00</td>\n",
              "      <td>4.000000e+00</td>\n",
              "      <td>0.000000e+00</td>\n",
              "      <td>0.000000e+00</td>\n",
              "      <td>0.000000e+00</td>\n",
              "      <td>0.000000e+00</td>\n",
              "      <td>0.000000e+00</td>\n",
              "      <td>0.000000e+00</td>\n",
              "      <td>0.000000e+00</td>\n",
              "      <td>...</td>\n",
              "      <td>0.000000e+00</td>\n",
              "      <td>6.300000e-01</td>\n",
              "      <td>6.600000e-01</td>\n",
              "      <td>0.000000e+00</td>\n",
              "      <td>NaN</td>\n",
              "      <td>NaN</td>\n",
              "      <td>NaN</td>\n",
              "      <td>NaN</td>\n",
              "      <td>NaN</td>\n",
              "      <td>NaN</td>\n",
              "    </tr>\n",
              "    <tr>\n",
              "      <th>50%</th>\n",
              "      <td>NaN</td>\n",
              "      <td>1.500000e+01</td>\n",
              "      <td>8.000000e+00</td>\n",
              "      <td>0.000000e+00</td>\n",
              "      <td>0.000000e+00</td>\n",
              "      <td>0.000000e+00</td>\n",
              "      <td>0.000000e+00</td>\n",
              "      <td>0.000000e+00</td>\n",
              "      <td>1.000000e+00</td>\n",
              "      <td>2.000000e+00</td>\n",
              "      <td>...</td>\n",
              "      <td>0.000000e+00</td>\n",
              "      <td>8.200000e-01</td>\n",
              "      <td>8.100000e-01</td>\n",
              "      <td>0.000000e+00</td>\n",
              "      <td>NaN</td>\n",
              "      <td>NaN</td>\n",
              "      <td>NaN</td>\n",
              "      <td>NaN</td>\n",
              "      <td>NaN</td>\n",
              "      <td>NaN</td>\n",
              "    </tr>\n",
              "    <tr>\n",
              "      <th>75%</th>\n",
              "      <td>NaN</td>\n",
              "      <td>8.000000e+01</td>\n",
              "      <td>9.000000e+00</td>\n",
              "      <td>0.000000e+00</td>\n",
              "      <td>4.000000e+00</td>\n",
              "      <td>1.200000e+01</td>\n",
              "      <td>2.000000e+01</td>\n",
              "      <td>4.000000e+00</td>\n",
              "      <td>1.500000e+01</td>\n",
              "      <td>3.100000e+01</td>\n",
              "      <td>...</td>\n",
              "      <td>0.000000e+00</td>\n",
              "      <td>9.700000e-01</td>\n",
              "      <td>9.500000e-01</td>\n",
              "      <td>0.000000e+00</td>\n",
              "      <td>NaN</td>\n",
              "      <td>NaN</td>\n",
              "      <td>NaN</td>\n",
              "      <td>NaN</td>\n",
              "      <td>NaN</td>\n",
              "      <td>NaN</td>\n",
              "    </tr>\n",
              "    <tr>\n",
              "      <th>max</th>\n",
              "      <td>NaN</td>\n",
              "      <td>1.233440e+07</td>\n",
              "      <td>5.200000e+01</td>\n",
              "      <td>4.894080e+05</td>\n",
              "      <td>1.427612e+06</td>\n",
              "      <td>2.461360e+06</td>\n",
              "      <td>3.777304e+06</td>\n",
              "      <td>7.417740e+05</td>\n",
              "      <td>1.105478e+06</td>\n",
              "      <td>2.146625e+06</td>\n",
              "      <td>...</td>\n",
              "      <td>1.464960e+05</td>\n",
              "      <td>1.000000e+00</td>\n",
              "      <td>1.000000e+00</td>\n",
              "      <td>1.253000e+04</td>\n",
              "      <td>NaN</td>\n",
              "      <td>NaN</td>\n",
              "      <td>NaN</td>\n",
              "      <td>NaN</td>\n",
              "      <td>NaN</td>\n",
              "      <td>NaN</td>\n",
              "    </tr>\n",
              "  </tbody>\n",
              "</table>\n",
              "<p>11 rows × 23 columns</p>\n",
              "</div>"
            ],
            "text/plain": [
              "            sku  national_inv     lead_time  in_transit_qty  forecast_3_month  \\\n",
              "count   1687861  1.687860e+06  1.586967e+06    1.687860e+06      1.687860e+06   \n",
              "unique  1687861           NaN           NaN             NaN               NaN   \n",
              "top     3284473           NaN           NaN             NaN               NaN   \n",
              "freq          1           NaN           NaN             NaN               NaN   \n",
              "mean        NaN  4.961118e+02  7.872267e+00    4.405202e+01      1.781193e+02   \n",
              "std         NaN  2.961523e+04  7.056024e+00    1.342742e+03      5.026553e+03   \n",
              "min         NaN -2.725600e+04  0.000000e+00    0.000000e+00      0.000000e+00   \n",
              "25%         NaN  4.000000e+00  4.000000e+00    0.000000e+00      0.000000e+00   \n",
              "50%         NaN  1.500000e+01  8.000000e+00    0.000000e+00      0.000000e+00   \n",
              "75%         NaN  8.000000e+01  9.000000e+00    0.000000e+00      4.000000e+00   \n",
              "max         NaN  1.233440e+07  5.200000e+01    4.894080e+05      1.427612e+06   \n",
              "\n",
              "        forecast_6_month  forecast_9_month  sales_1_month  sales_3_month  \\\n",
              "count       1.687860e+06      1.687860e+06   1.687860e+06   1.687860e+06   \n",
              "unique               NaN               NaN            NaN            NaN   \n",
              "top                  NaN               NaN            NaN            NaN   \n",
              "freq                 NaN               NaN            NaN            NaN   \n",
              "mean        3.449867e+02      5.063644e+02   5.592607e+01   1.750259e+02   \n",
              "std         9.795152e+03      1.437892e+04   1.928196e+03   5.192378e+03   \n",
              "min         0.000000e+00      0.000000e+00   0.000000e+00   0.000000e+00   \n",
              "25%         0.000000e+00      0.000000e+00   0.000000e+00   0.000000e+00   \n",
              "50%         0.000000e+00      0.000000e+00   0.000000e+00   1.000000e+00   \n",
              "75%         1.200000e+01      2.000000e+01   4.000000e+00   1.500000e+01   \n",
              "max         2.461360e+06      3.777304e+06   7.417740e+05   1.105478e+06   \n",
              "\n",
              "        sales_6_month        ...         pieces_past_due  perf_6_month_avg  \\\n",
              "count    1.687860e+06        ...            1.687860e+06      1.687860e+06   \n",
              "unique            NaN        ...                     NaN               NaN   \n",
              "top               NaN        ...                     NaN               NaN   \n",
              "freq              NaN        ...                     NaN               NaN   \n",
              "mean     3.417288e+02        ...            2.043724e+00     -6.872059e+00   \n",
              "std      9.613167e+03        ...            2.360165e+02      2.655636e+01   \n",
              "min      0.000000e+00        ...            0.000000e+00     -9.900000e+01   \n",
              "25%      0.000000e+00        ...            0.000000e+00      6.300000e-01   \n",
              "50%      2.000000e+00        ...            0.000000e+00      8.200000e-01   \n",
              "75%      3.100000e+01        ...            0.000000e+00      9.700000e-01   \n",
              "max      2.146625e+06        ...            1.464960e+05      1.000000e+00   \n",
              "\n",
              "       perf_12_month_avg  local_bo_qty  deck_risk  oe_constraint  ppap_risk  \\\n",
              "count       1.687860e+06  1.687860e+06    1687860        1687860    1687860   \n",
              "unique               NaN           NaN          2              2          2   \n",
              "top                  NaN           NaN         No             No         No   \n",
              "freq                 NaN           NaN    1300377        1687615    1484026   \n",
              "mean       -6.437947e+00  6.264507e-01        NaN            NaN        NaN   \n",
              "std         2.584333e+01  3.372224e+01        NaN            NaN        NaN   \n",
              "min        -9.900000e+01  0.000000e+00        NaN            NaN        NaN   \n",
              "25%         6.600000e-01  0.000000e+00        NaN            NaN        NaN   \n",
              "50%         8.100000e-01  0.000000e+00        NaN            NaN        NaN   \n",
              "75%         9.500000e-01  0.000000e+00        NaN            NaN        NaN   \n",
              "max         1.000000e+00  1.253000e+04        NaN            NaN        NaN   \n",
              "\n",
              "       stop_auto_buy rev_stop went_on_backorder  \n",
              "count        1687860  1687860           1687860  \n",
              "unique             2        2                 2  \n",
              "top              Yes       No                No  \n",
              "freq         1626774  1687129           1676567  \n",
              "mean             NaN      NaN               NaN  \n",
              "std              NaN      NaN               NaN  \n",
              "min              NaN      NaN               NaN  \n",
              "25%              NaN      NaN               NaN  \n",
              "50%              NaN      NaN               NaN  \n",
              "75%              NaN      NaN               NaN  \n",
              "max              NaN      NaN               NaN  \n",
              "\n",
              "[11 rows x 23 columns]"
            ]
          },
          "metadata": {
            "tags": []
          },
          "execution_count": 11
        }
      ]
    },
    {
      "metadata": {
        "id": "ksujQxiySouQ",
        "colab_type": "text"
      },
      "cell_type": "markdown",
      "source": [
        "Display data type of each variable"
      ]
    },
    {
      "metadata": {
        "id": "0_exR4BWSouR",
        "colab_type": "code",
        "colab": {},
        "outputId": "98f7eee2-739f-4c9d-c4a1-93d959a591cc"
      },
      "cell_type": "code",
      "source": [
        "data.dtypes"
      ],
      "execution_count": 0,
      "outputs": [
        {
          "output_type": "execute_result",
          "data": {
            "text/plain": [
              "sku                   object\n",
              "national_inv         float64\n",
              "lead_time            float64\n",
              "in_transit_qty       float64\n",
              "forecast_3_month     float64\n",
              "forecast_6_month     float64\n",
              "forecast_9_month     float64\n",
              "sales_1_month        float64\n",
              "sales_3_month        float64\n",
              "sales_6_month        float64\n",
              "sales_9_month        float64\n",
              "min_bank             float64\n",
              "potential_issue       object\n",
              "pieces_past_due      float64\n",
              "perf_6_month_avg     float64\n",
              "perf_12_month_avg    float64\n",
              "local_bo_qty         float64\n",
              "deck_risk             object\n",
              "oe_constraint         object\n",
              "ppap_risk             object\n",
              "stop_auto_buy         object\n",
              "rev_stop              object\n",
              "went_on_backorder     object\n",
              "dtype: object"
            ]
          },
          "metadata": {
            "tags": []
          },
          "execution_count": 12
        }
      ]
    },
    {
      "metadata": {
        "id": "ycckirvDSouV",
        "colab_type": "text"
      },
      "cell_type": "markdown",
      "source": [
        "#### Observations\n",
        "\n",
        "    sku is Categorical but is interpreted as int64 \n",
        "    potential_issue, deck_risk, oe_constraint, ppap_risk, stop_auto_buy, rev_stop, and went_on_backorder are also categorical but is interpreted as object. "
      ]
    },
    {
      "metadata": {
        "id": "WBXA0uZCSouW",
        "colab_type": "text"
      },
      "cell_type": "markdown",
      "source": [
        "#### Convert all the attributes to appropriate type"
      ]
    },
    {
      "metadata": {
        "id": "5dCC2nKiSouZ",
        "colab_type": "text"
      },
      "cell_type": "markdown",
      "source": [
        "Data type conversion\n",
        "\n",
        "    Using astype('category') to convert potential_issue, deck_risk, oe_constraint, ppap_risk, stop_auto_buy, rev_stop, and went_on_backorder attributes to categorical attributes.\n"
      ]
    },
    {
      "metadata": {
        "id": "IQm_VopiSoua",
        "colab_type": "code",
        "colab": {}
      },
      "cell_type": "code",
      "source": [
        "for col in ['potential_issue', 'deck_risk', 'oe_constraint', 'ppap_risk', 'stop_auto_buy', 'rev_stop', 'went_on_backorder']:\n",
        "    data[col] = data[col].astype('category')\n",
        "    "
      ],
      "execution_count": 0,
      "outputs": []
    },
    {
      "metadata": {
        "id": "l5y6F6UXSoug",
        "colab_type": "code",
        "colab": {}
      },
      "cell_type": "code",
      "source": [
        "for col in ['sku', 'potential_issue', 'deck_risk', 'oe_constraint', 'ppap_risk', 'stop_auto_buy', 'rev_stop', 'went_on_backorder']:\n",
        "    data1[col] = data1[col].astype('category')"
      ],
      "execution_count": 0,
      "outputs": []
    },
    {
      "metadata": {
        "id": "xVrfpzxVSouo",
        "colab_type": "text"
      },
      "cell_type": "markdown",
      "source": [
        "Display data type of each variable"
      ]
    },
    {
      "metadata": {
        "id": "O9R4k-XwSous",
        "colab_type": "code",
        "colab": {},
        "outputId": "2f800b11-3272-4971-e99a-f1ee20767e87"
      },
      "cell_type": "code",
      "source": [
        "data.dtypes"
      ],
      "execution_count": 0,
      "outputs": [
        {
          "output_type": "execute_result",
          "data": {
            "text/plain": [
              "sku                  category\n",
              "national_inv          float64\n",
              "lead_time             float64\n",
              "in_transit_qty        float64\n",
              "forecast_3_month      float64\n",
              "forecast_6_month      float64\n",
              "forecast_9_month      float64\n",
              "sales_1_month         float64\n",
              "sales_3_month         float64\n",
              "sales_6_month         float64\n",
              "sales_9_month         float64\n",
              "min_bank              float64\n",
              "potential_issue      category\n",
              "pieces_past_due       float64\n",
              "perf_6_month_avg      float64\n",
              "perf_12_month_avg     float64\n",
              "local_bo_qty          float64\n",
              "deck_risk            category\n",
              "oe_constraint        category\n",
              "ppap_risk            category\n",
              "stop_auto_buy        category\n",
              "rev_stop             category\n",
              "went_on_backorder    category\n",
              "dtype: object"
            ]
          },
          "metadata": {
            "tags": []
          },
          "execution_count": 14
        }
      ]
    },
    {
      "metadata": {
        "id": "f13j081OSouw",
        "colab_type": "text"
      },
      "cell_type": "markdown",
      "source": [
        "#### Delete sku attribute"
      ]
    },
    {
      "metadata": {
        "id": "khetOQb5Souy",
        "colab_type": "code",
        "colab": {}
      },
      "cell_type": "code",
      "source": [
        "np.size(np.unique(data.sku, return_counts=True)[0])"
      ],
      "execution_count": 0,
      "outputs": []
    },
    {
      "metadata": {
        "id": "wG_ew661Sou4",
        "colab_type": "code",
        "colab": {}
      },
      "cell_type": "code",
      "source": [
        "data.drop('sku', axis=1, inplace=True)"
      ],
      "execution_count": 0,
      "outputs": []
    },
    {
      "metadata": {
        "id": "D6FVtvo1Sou7",
        "colab_type": "code",
        "colab": {}
      },
      "cell_type": "code",
      "source": [
        "data1.drop('sku', axis=1, inplace=True)"
      ],
      "execution_count": 0,
      "outputs": []
    },
    {
      "metadata": {
        "id": "j0GI8CeWSou-",
        "colab_type": "text"
      },
      "cell_type": "markdown",
      "source": [
        "#### Missing Data\n",
        "\n",
        "    Missing value analysis and dropping the records with missing values"
      ]
    },
    {
      "metadata": {
        "id": "2fbFBAN_Sou-",
        "colab_type": "code",
        "colab": {},
        "outputId": "9d2db6c5-b1df-4473-e97f-b8e55fb0c06c"
      },
      "cell_type": "code",
      "source": [
        "data.isnull().sum()"
      ],
      "execution_count": 0,
      "outputs": [
        {
          "output_type": "execute_result",
          "data": {
            "text/plain": [
              "national_inv              1\n",
              "lead_time            100894\n",
              "in_transit_qty            1\n",
              "forecast_3_month          1\n",
              "forecast_6_month          1\n",
              "forecast_9_month          1\n",
              "sales_1_month             1\n",
              "sales_3_month             1\n",
              "sales_6_month             1\n",
              "sales_9_month             1\n",
              "min_bank                  1\n",
              "potential_issue           1\n",
              "pieces_past_due           1\n",
              "perf_6_month_avg          1\n",
              "perf_12_month_avg         1\n",
              "local_bo_qty              1\n",
              "deck_risk                 1\n",
              "oe_constraint             1\n",
              "ppap_risk                 1\n",
              "stop_auto_buy             1\n",
              "rev_stop                  1\n",
              "went_on_backorder         1\n",
              "dtype: int64"
            ]
          },
          "metadata": {
            "tags": []
          },
          "execution_count": 17
        }
      ]
    },
    {
      "metadata": {
        "id": "rZLEtfI1SovD",
        "colab_type": "text"
      },
      "cell_type": "markdown",
      "source": [
        "Observing the number of records before and after missing value records removal"
      ]
    },
    {
      "metadata": {
        "id": "V0oIkUH1SovF",
        "colab_type": "code",
        "colab": {},
        "outputId": "15f9fbf3-f75b-43cf-c5b0-16fa7cad42b7"
      },
      "cell_type": "code",
      "source": [
        "print (data.shape)"
      ],
      "execution_count": 0,
      "outputs": [
        {
          "output_type": "stream",
          "text": [
            "(1687861, 22)\n"
          ],
          "name": "stdout"
        }
      ]
    },
    {
      "metadata": {
        "id": "HM8xHLXtSovK",
        "colab_type": "code",
        "colab": {}
      },
      "cell_type": "code",
      "source": [
        "#Since the number of missing values is about 5%. For initial analysis we ignore all these records\n",
        "data = data.dropna(axis=0)"
      ],
      "execution_count": 0,
      "outputs": []
    },
    {
      "metadata": {
        "id": "9N7xOQcRSovO",
        "colab_type": "code",
        "colab": {}
      },
      "cell_type": "code",
      "source": [
        "data1 = data1.dropna(axis=0)"
      ],
      "execution_count": 0,
      "outputs": []
    },
    {
      "metadata": {
        "id": "KsZKkBIkSovS",
        "colab_type": "code",
        "colab": {},
        "outputId": "0f5b34ea-725b-431a-d1a8-949082b2e53e"
      },
      "cell_type": "code",
      "source": [
        "data.isnull().sum()\n",
        "print(data.shape)"
      ],
      "execution_count": 0,
      "outputs": [
        {
          "output_type": "stream",
          "text": [
            "(1586967, 22)\n"
          ],
          "name": "stdout"
        }
      ]
    },
    {
      "metadata": {
        "id": "yl_y_ZOBSovY",
        "colab_type": "text"
      },
      "cell_type": "markdown",
      "source": [
        "#### Converting Categorical to Numeric\n",
        "\n",
        "For some of the models all the independent attribute should be of type numeric and Linear Regression model is one among them.\n",
        "But this data set has some categorial attributes.\n",
        "\n",
        "'pandas.get_dummies' To convert convert categorical variable into dummy/indicator variables\n"
      ]
    },
    {
      "metadata": {
        "id": "lMt73j_nSovZ",
        "colab_type": "code",
        "colab": {},
        "outputId": "41e17fbd-743d-4484-833b-4f121fa14171"
      },
      "cell_type": "code",
      "source": [
        "print (data.columns)"
      ],
      "execution_count": 0,
      "outputs": [
        {
          "output_type": "stream",
          "text": [
            "Index(['national_inv', 'lead_time', 'in_transit_qty', 'forecast_3_month',\n",
            "       'forecast_6_month', 'forecast_9_month', 'sales_1_month',\n",
            "       'sales_3_month', 'sales_6_month', 'sales_9_month', 'min_bank',\n",
            "       'potential_issue', 'pieces_past_due', 'perf_6_month_avg',\n",
            "       'perf_12_month_avg', 'local_bo_qty', 'deck_risk', 'oe_constraint',\n",
            "       'ppap_risk', 'stop_auto_buy', 'rev_stop', 'went_on_backorder'],\n",
            "      dtype='object')\n"
          ],
          "name": "stdout"
        }
      ]
    },
    {
      "metadata": {
        "id": "2Siz6RrnSovf",
        "colab_type": "text"
      },
      "cell_type": "markdown",
      "source": [
        "Creating dummy variables.\n",
        "\n",
        "    If we have k levels in a category, then we create k-1 dummy variables as the last one would be redundant. So we use the parameter drop_first in pd.get_dummies function that drops the first level in each of the category\n"
      ]
    },
    {
      "metadata": {
        "id": "qcK5eIbrSovh",
        "colab_type": "code",
        "colab": {}
      },
      "cell_type": "code",
      "source": [
        "categorical_Attributes = data.select_dtypes(include=['category']).columns"
      ],
      "execution_count": 0,
      "outputs": []
    },
    {
      "metadata": {
        "id": "KtfV6Jv5Sovj",
        "colab_type": "code",
        "colab": {}
      },
      "cell_type": "code",
      "source": [
        "categorical_Attributes = data1.select_dtypes(include=['category']).columns"
      ],
      "execution_count": 0,
      "outputs": []
    },
    {
      "metadata": {
        "id": "cBR9YqikSovm",
        "colab_type": "code",
        "colab": {}
      },
      "cell_type": "code",
      "source": [
        "data = pd.get_dummies(columns=categorical_Attributes, data=data, prefix=categorical_Attributes, prefix_sep=\"_\",drop_first=True)"
      ],
      "execution_count": 0,
      "outputs": []
    },
    {
      "metadata": {
        "id": "n4sD3Pn8Sovp",
        "colab_type": "code",
        "colab": {}
      },
      "cell_type": "code",
      "source": [
        "data1 = pd.get_dummies(columns=categorical_Attributes, data=data1, prefix=categorical_Attributes, prefix_sep=\"_\",drop_first=True)"
      ],
      "execution_count": 0,
      "outputs": []
    },
    {
      "metadata": {
        "id": "p8X9tuj6Sovr",
        "colab_type": "code",
        "colab": {},
        "outputId": "33814c05-16a3-4066-ce49-4cdff0a45281"
      },
      "cell_type": "code",
      "source": [
        "print (data.columns, data.shape)"
      ],
      "execution_count": 0,
      "outputs": [
        {
          "output_type": "stream",
          "text": [
            "Index(['national_inv', 'lead_time', 'in_transit_qty', 'forecast_3_month',\n",
            "       'forecast_6_month', 'forecast_9_month', 'sales_1_month',\n",
            "       'sales_3_month', 'sales_6_month', 'sales_9_month', 'min_bank',\n",
            "       'pieces_past_due', 'perf_6_month_avg', 'perf_12_month_avg',\n",
            "       'local_bo_qty', 'potential_issue_Yes', 'deck_risk_Yes',\n",
            "       'oe_constraint_Yes', 'ppap_risk_Yes', 'stop_auto_buy_Yes',\n",
            "       'rev_stop_Yes', 'went_on_backorder_Yes'],\n",
            "      dtype='object') (1586967, 22)\n"
          ],
          "name": "stdout"
        }
      ]
    },
    {
      "metadata": {
        "id": "BKfHEVi-Sovv",
        "colab_type": "text"
      },
      "cell_type": "markdown",
      "source": [
        "#### Target attribute distribution"
      ]
    },
    {
      "metadata": {
        "id": "Ro3Q8NwVSovv",
        "colab_type": "code",
        "colab": {},
        "outputId": "3e7d0069-4e13-4bf2-fd46-ab7ba8485fbf"
      },
      "cell_type": "code",
      "source": [
        "pd.value_counts(data['went_on_backorder_Yes'].values)"
      ],
      "execution_count": 0,
      "outputs": [
        {
          "output_type": "execute_result",
          "data": {
            "text/plain": [
              "0    40000\n",
              "1    11293\n",
              "dtype: int64"
            ]
          },
          "metadata": {
            "tags": []
          },
          "execution_count": 91
        }
      ]
    },
    {
      "metadata": {
        "id": "IGmPQNumSov1",
        "colab_type": "code",
        "colab": {},
        "outputId": "6612f9d3-e1e2-4afa-9b76-91bb4bc7124e"
      },
      "cell_type": "code",
      "source": [
        "pd.value_counts(data1['went_on_backorder_Yes'].values)"
      ],
      "execution_count": 0,
      "outputs": [
        {
          "output_type": "execute_result",
          "data": {
            "text/plain": [
              "0    224747\n",
              "1      2604\n",
              "dtype: int64"
            ]
          },
          "metadata": {
            "tags": []
          },
          "execution_count": 34
        }
      ]
    },
    {
      "metadata": {
        "id": "fWoacUBISowC",
        "colab_type": "text"
      },
      "cell_type": "markdown",
      "source": [
        "#### Split the data in to train and test\n",
        "\n",
        "sklearn.model_selection.train_test_split\n",
        "\n",
        "    Split arrays or matrices into random train and test subsets"
      ]
    },
    {
      "metadata": {
        "id": "SWkUtbxrSowD",
        "colab_type": "code",
        "colab": {}
      },
      "cell_type": "code",
      "source": [
        "#Performing train test split on the data\n",
        "#X, y = data.loc[:,data.columns!='went_on_backorder_Yes'].values, data.loc[:,'went_on_backorder_Yes'].values\n",
        "\n",
        "#X_train, X_test, y_train, y_test = train_test_split(X, y, test_size=0.3, random_state=123)\n"
      ],
      "execution_count": 0,
      "outputs": []
    },
    {
      "metadata": {
        "id": "MdODHWA7SowG",
        "colab_type": "code",
        "colab": {}
      },
      "cell_type": "code",
      "source": [
        "X_train = data.loc[:,data.columns!='went_on_backorder_Yes'].values\n",
        "y_train = data.loc[:,'went_on_backorder_Yes'].values"
      ],
      "execution_count": 0,
      "outputs": []
    },
    {
      "metadata": {
        "id": "99OxtdV6SowI",
        "colab_type": "code",
        "colab": {}
      },
      "cell_type": "code",
      "source": [
        "X_test = data1.loc[:,data.columns!='went_on_backorder_Yes'].values\n",
        "y_test = data1.loc[:,'went_on_backorder_Yes'].values"
      ],
      "execution_count": 0,
      "outputs": []
    },
    {
      "metadata": {
        "id": "ORJC0bM1SowM",
        "colab_type": "code",
        "colab": {},
        "outputId": "137b5a53-0b9f-4d65-d781-dc0538c1fc52"
      },
      "cell_type": "code",
      "source": [
        "#To get the distribution in the target in train and test\n",
        "print(pd.value_counts(y_train))\n",
        "print(pd.value_counts(y_test))"
      ],
      "execution_count": 0,
      "outputs": [
        {
          "output_type": "stream",
          "text": [
            "0    40000\n",
            "1    11293\n",
            "dtype: int64\n",
            "0    224747\n",
            "1      2604\n",
            "dtype: int64\n"
          ],
          "name": "stdout"
        }
      ]
    },
    {
      "metadata": {
        "id": "eNSRC_DiSowP",
        "colab_type": "text"
      },
      "cell_type": "markdown",
      "source": [
        "#### Perceptron Model Building"
      ]
    },
    {
      "metadata": {
        "id": "UKJ56hYySowS",
        "colab_type": "code",
        "colab": {}
      },
      "cell_type": "code",
      "source": [
        "perceptron_model = Sequential()\n",
        "\n",
        "perceptron_model.add(Dense(1, input_dim=X_train.shape[1], activation='sigmoid', kernel_initializer='normal'))"
      ],
      "execution_count": 0,
      "outputs": []
    },
    {
      "metadata": {
        "id": "VfP6An0eSowV",
        "colab_type": "code",
        "colab": {}
      },
      "cell_type": "code",
      "source": [
        "perceptron_model.compile(loss='binary_crossentropy', optimizer='adam', metrics=['accuracy'])"
      ],
      "execution_count": 0,
      "outputs": []
    },
    {
      "metadata": {
        "id": "cr8k_QmTSowY",
        "colab_type": "code",
        "colab": {},
        "outputId": "2eddc201-4a76-4eda-cb03-ba7c2317b6dd"
      },
      "cell_type": "code",
      "source": [
        "perceptron_model.fit(X_train, y_train, epochs=50, batch_size=64)"
      ],
      "execution_count": 0,
      "outputs": [
        {
          "output_type": "stream",
          "text": [
            "Epoch 1/50\n",
            "51293/51293 [==============================] - 1s 28us/step - loss: 0.5066 - acc: 0.7829\n",
            "Epoch 2/50\n",
            "51293/51293 [==============================] - 1s 28us/step - loss: 0.5061 - acc: 0.7830\n",
            "Epoch 3/50\n",
            "51293/51293 [==============================] - 1s 28us/step - loss: 0.5057 - acc: 0.7835\n",
            "Epoch 4/50\n",
            "51293/51293 [==============================] - 1s 28us/step - loss: 0.5053 - acc: 0.7835\n",
            "Epoch 5/50\n",
            "51293/51293 [==============================] - 1s 28us/step - loss: 0.5048 - acc: 0.7835\n",
            "Epoch 6/50\n",
            "51293/51293 [==============================] - 1s 28us/step - loss: 0.5044 - acc: 0.7839\n",
            "Epoch 7/50\n",
            "51293/51293 [==============================] - 1s 28us/step - loss: 0.5041 - acc: 0.7840\n",
            "Epoch 8/50\n",
            "51293/51293 [==============================] - 1s 25us/step - loss: 0.5036 - acc: 0.7839\n",
            "Epoch 9/50\n",
            "51293/51293 [==============================] - 1s 27us/step - loss: 0.5033 - acc: 0.7840\n",
            "Epoch 10/50\n",
            "51293/51293 [==============================] - 1s 28us/step - loss: 0.5030 - acc: 0.7845\n",
            "Epoch 11/50\n",
            "51293/51293 [==============================] - 1s 28us/step - loss: 0.5027 - acc: 0.7843\n",
            "Epoch 12/50\n",
            "51293/51293 [==============================] - 1s 27us/step - loss: 0.5024 - acc: 0.7846\n",
            "Epoch 13/50\n",
            "51293/51293 [==============================] - 1s 27us/step - loss: 0.5021 - acc: 0.7844\n",
            "Epoch 14/50\n",
            "51293/51293 [==============================] - 1s 27us/step - loss: 0.5018 - acc: 0.7845\n",
            "Epoch 15/50\n",
            "51293/51293 [==============================] - 1s 28us/step - loss: 0.5016 - acc: 0.7845\n",
            "Epoch 16/50\n",
            "51293/51293 [==============================] - 1s 27us/step - loss: 0.5014 - acc: 0.7848\n",
            "Epoch 17/50\n",
            "51293/51293 [==============================] - 1s 27us/step - loss: 0.5011 - acc: 0.7852\n",
            "Epoch 18/50\n",
            "51293/51293 [==============================] - 1s 27us/step - loss: 0.5009 - acc: 0.7851\n",
            "Epoch 19/50\n",
            "51293/51293 [==============================] - 1s 27us/step - loss: 0.5007 - acc: 0.7851\n",
            "Epoch 20/50\n",
            "51293/51293 [==============================] - 1s 27us/step - loss: 0.5005 - acc: 0.7854\n",
            "Epoch 21/50\n",
            "51293/51293 [==============================] - 1s 27us/step - loss: 0.5004 - acc: 0.7853\n",
            "Epoch 22/50\n",
            "51293/51293 [==============================] - 1s 26us/step - loss: 0.5002 - acc: 0.7857\n",
            "Epoch 23/50\n",
            "51293/51293 [==============================] - 1s 26us/step - loss: 0.5000 - acc: 0.7858\n",
            "Epoch 24/50\n",
            "51293/51293 [==============================] - 1s 26us/step - loss: 0.4998 - acc: 0.7859\n",
            "Epoch 25/50\n",
            "51293/51293 [==============================] - 1s 25us/step - loss: 0.4997 - acc: 0.7859\n",
            "Epoch 26/50\n",
            "51293/51293 [==============================] - 1s 26us/step - loss: 0.4996 - acc: 0.7860\n",
            "Epoch 27/50\n",
            "51293/51293 [==============================] - 1s 25us/step - loss: 0.4994 - acc: 0.7860\n",
            "Epoch 28/50\n",
            "51293/51293 [==============================] - 1s 26us/step - loss: 0.4993 - acc: 0.7863\n",
            "Epoch 29/50\n",
            "51293/51293 [==============================] - 1s 26us/step - loss: 0.4991 - acc: 0.7861\n",
            "Epoch 30/50\n",
            "51293/51293 [==============================] - 1s 26us/step - loss: 0.4990 - acc: 0.7859\n",
            "Epoch 31/50\n",
            "51293/51293 [==============================] - 1s 26us/step - loss: 0.4989 - acc: 0.7862\n",
            "Epoch 32/50\n",
            "51293/51293 [==============================] - 1s 25us/step - loss: 0.4987 - acc: 0.7858\n",
            "Epoch 33/50\n",
            "51293/51293 [==============================] - 1s 25us/step - loss: 0.4987 - acc: 0.7864\n",
            "Epoch 34/50\n",
            "51293/51293 [==============================] - 1s 26us/step - loss: 0.4986 - acc: 0.7862\n",
            "Epoch 35/50\n",
            "51293/51293 [==============================] - 1s 26us/step - loss: 0.4984 - acc: 0.7863\n",
            "Epoch 36/50\n",
            "51293/51293 [==============================] - 1s 25us/step - loss: 0.4983 - acc: 0.7866\n",
            "Epoch 37/50\n",
            "51293/51293 [==============================] - 1s 27us/step - loss: 0.4982 - acc: 0.7861\n",
            "Epoch 38/50\n",
            "51293/51293 [==============================] - 1s 25us/step - loss: 0.4981 - acc: 0.7866\n",
            "Epoch 39/50\n",
            "51293/51293 [==============================] - 1s 26us/step - loss: 0.4980 - acc: 0.7871\n",
            "Epoch 40/50\n",
            "51293/51293 [==============================] - 1s 24us/step - loss: 0.4980 - acc: 0.7862\n",
            "Epoch 41/50\n",
            "51293/51293 [==============================] - 1s 24us/step - loss: 0.4978 - acc: 0.7862\n",
            "Epoch 42/50\n",
            "51293/51293 [==============================] - 1s 25us/step - loss: 0.4977 - acc: 0.7863\n",
            "Epoch 43/50\n",
            "51293/51293 [==============================] - 1s 25us/step - loss: 0.4977 - acc: 0.7867\n",
            "Epoch 44/50\n",
            "51293/51293 [==============================] - 1s 25us/step - loss: 0.4976 - acc: 0.7864\n",
            "Epoch 45/50\n",
            "51293/51293 [==============================] - 1s 26us/step - loss: 0.4974 - acc: 0.7866\n",
            "Epoch 46/50\n",
            "51293/51293 [==============================] - 1s 25us/step - loss: 0.4974 - acc: 0.7863\n",
            "Epoch 47/50\n",
            "51293/51293 [==============================] - 1s 25us/step - loss: 0.4973 - acc: 0.7870\n",
            "Epoch 48/50\n",
            "51293/51293 [==============================] - 1s 25us/step - loss: 0.4972 - acc: 0.7864\n",
            "Epoch 49/50\n",
            "51293/51293 [==============================] - 1s 24us/step - loss: 0.4971 - acc: 0.7865\n",
            "Epoch 50/50\n",
            "51293/51293 [==============================] - 1s 25us/step - loss: 0.4971 - acc: 0.7868\n"
          ],
          "name": "stdout"
        },
        {
          "output_type": "execute_result",
          "data": {
            "text/plain": [
              "<keras.callbacks.History at 0x270873554a8>"
            ]
          },
          "metadata": {
            "tags": []
          },
          "execution_count": 96
        }
      ]
    },
    {
      "metadata": {
        "id": "L_52GXDJSowc",
        "colab_type": "text"
      },
      "cell_type": "markdown",
      "source": [
        "#### Predictions"
      ]
    },
    {
      "metadata": {
        "id": "FcTqC2CUSowf",
        "colab_type": "code",
        "colab": {},
        "outputId": "bcb66c94-4020-46f0-b03f-cb2c97754adb"
      },
      "cell_type": "code",
      "source": [
        "test_pred=perceptron_model.predict_classes(X_test)\n",
        "train_pred=perceptron_model.predict_classes(X_train)"
      ],
      "execution_count": 0,
      "outputs": [
        {
          "output_type": "stream",
          "text": [
            "227351/227351 [==============================] - 4s 17us/step\n",
            "51293/51293 [==============================] - 1s 17us/step\n"
          ],
          "name": "stdout"
        }
      ]
    },
    {
      "metadata": {
        "id": "9gmlPwF3Sowm",
        "colab_type": "text"
      },
      "cell_type": "markdown",
      "source": [
        "#### Getting evaluation metrics and evaluating model performance"
      ]
    },
    {
      "metadata": {
        "id": "x7a4uqHwSowq",
        "colab_type": "code",
        "colab": {},
        "outputId": "4b2608f8-d831-4806-bb99-23b1471ddab1"
      },
      "cell_type": "code",
      "source": [
        "confusion_matrix_test = confusion_matrix(y_test, test_pred)\n",
        "confusion_matrix_train = confusion_matrix(y_train, train_pred)\n",
        "\n",
        "print(confusion_matrix_train)\n",
        "print(confusion_matrix_test)"
      ],
      "execution_count": 0,
      "outputs": [
        {
          "output_type": "stream",
          "text": [
            "[[39707   293]\n",
            " [10673   620]]\n",
            "[[216994   7753]\n",
            " [  1489   1115]]\n"
          ],
          "name": "stdout"
        }
      ]
    },
    {
      "metadata": {
        "id": "UE5Rz5qHSowv",
        "colab_type": "text"
      },
      "cell_type": "markdown",
      "source": [
        "#### Calculate Accuracy, True Positive Rate and True Negative Rates"
      ]
    },
    {
      "metadata": {
        "id": "dDQ76H0sSoww",
        "colab_type": "code",
        "colab": {},
        "outputId": "b4546505-1969-458c-a075-d6a8169d34f9"
      },
      "cell_type": "code",
      "source": [
        "Accuracy_Train = (confusion_matrix_train[0,0]+confusion_matrix_train[1,1])/(confusion_matrix_train[0,0]+confusion_matrix_train[0,1]+confusion_matrix_train[1,0]+confusion_matrix_train[1,1])\n",
        "TNR_Train = confusion_matrix_train[0,0]/(confusion_matrix_train[0,0]+confusion_matrix_train[0,1])\n",
        "TPR_Train = confusion_matrix_train[1,1]/(confusion_matrix_train[1,0]+confusion_matrix_train[1,1])\n",
        "\n",
        "print(\"Train TNR: \",TNR_Train)\n",
        "print(\"Train TPR: \",TPR_Train)\n",
        "print(\"Train Accuracy: \",Accuracy_Train)"
      ],
      "execution_count": 0,
      "outputs": [
        {
          "output_type": "stream",
          "text": [
            "Train TNR:  0.992675\n",
            "Train TPR:  0.05490126627114141\n",
            "Train Accuracy:  0.786208644454409\n"
          ],
          "name": "stdout"
        }
      ]
    },
    {
      "metadata": {
        "id": "MPQB1jXySowx",
        "colab_type": "code",
        "colab": {},
        "outputId": "fce3ea3f-6025-44da-e887-4be02a1bcccb"
      },
      "cell_type": "code",
      "source": [
        "Accuracy_Test = (confusion_matrix_test[0,0]+confusion_matrix_test[1,1])/(confusion_matrix_test[0,0]+confusion_matrix_test[0,1]+confusion_matrix_test[1,0]+confusion_matrix_test[1,1])\n",
        "TNR_Test = confusion_matrix_test[0,0]/(confusion_matrix_test[0,0] +confusion_matrix_test[0,1])\n",
        "TPR_Test = confusion_matrix_test[1,1]/(confusion_matrix_test[1,0] +confusion_matrix_test[1,1])\n",
        "\n",
        "print(\"Test TNR: \",TNR_Test)\n",
        "print(\"Test TPR: \",TPR_Test)\n",
        "print(\"Test Accuracy: \",Accuracy_Test)"
      ],
      "execution_count": 0,
      "outputs": [
        {
          "output_type": "stream",
          "text": [
            "Test TNR:  0.9655034327488242\n",
            "Test TPR:  0.42818740399385563\n",
            "Test Accuracy:  0.9593492001354733\n"
          ],
          "name": "stdout"
        }
      ]
    },
    {
      "metadata": {
        "id": "Wd4drkhZSow2",
        "colab_type": "text"
      },
      "cell_type": "markdown",
      "source": [
        "#### MLP Model Building"
      ]
    },
    {
      "metadata": {
        "id": "QpXfeO-_Sow3",
        "colab_type": "code",
        "colab": {}
      },
      "cell_type": "code",
      "source": [
        "mlp_model = Sequential()\n",
        "\n",
        "mlp_model.add(Dense(12, input_dim=X_train.shape[1], activation='relu', kernel_initializer='glorot_normal'))\n",
        "mlp_model.add(Dense(8, activation='relu', kernel_initializer='normal'))\n",
        "mlp_model.add(Dense(1, activation='sigmoid', kernel_initializer='normal'))"
      ],
      "execution_count": 0,
      "outputs": []
    },
    {
      "metadata": {
        "id": "eA6x76l8Sow4",
        "colab_type": "code",
        "colab": {}
      },
      "cell_type": "code",
      "source": [
        "mlp_model.compile(loss='binary_crossentropy', optimizer='adam', metrics=['accuracy'])"
      ],
      "execution_count": 0,
      "outputs": []
    },
    {
      "metadata": {
        "id": "n37ymUinSow7",
        "colab_type": "code",
        "colab": {},
        "outputId": "3e985eb2-5949-47a8-fa66-9da9ff9534a5"
      },
      "cell_type": "code",
      "source": [
        "mlp_model.fit(X_train, y_train, epochs=50, batch_size=64)"
      ],
      "execution_count": 0,
      "outputs": [
        {
          "output_type": "stream",
          "text": [
            "Epoch 1/50\n",
            "51293/51293 [==============================] - 2s 47us/step - loss: 0.5367 - acc: 0.7786\n",
            "Epoch 2/50\n",
            "51293/51293 [==============================] - 2s 31us/step - loss: 0.5009 - acc: 0.7837\n",
            "Epoch 3/50\n",
            "51293/51293 [==============================] - 2s 30us/step - loss: 0.4897 - acc: 0.7892\n",
            "Epoch 4/50\n",
            "51293/51293 [==============================] - 2s 30us/step - loss: 0.4781 - acc: 0.7935\n",
            "Epoch 5/50\n",
            "51293/51293 [==============================] - 2s 30us/step - loss: 0.4676 - acc: 0.7972\n",
            "Epoch 6/50\n",
            "51293/51293 [==============================] - 2s 31us/step - loss: 0.4613 - acc: 0.8005\n",
            "Epoch 7/50\n",
            "51293/51293 [==============================] - 2s 31us/step - loss: 0.4569 - acc: 0.8024\n",
            "Epoch 8/50\n",
            "51293/51293 [==============================] - 2s 31us/step - loss: 0.4530 - acc: 0.8043\n",
            "Epoch 9/50\n",
            "51293/51293 [==============================] - 2s 30us/step - loss: 0.4497 - acc: 0.8053\n",
            "Epoch 10/50\n",
            "51293/51293 [==============================] - 2s 30us/step - loss: 0.4464 - acc: 0.8066\n",
            "Epoch 11/50\n",
            "51293/51293 [==============================] - 2s 30us/step - loss: 0.4436 - acc: 0.8078\n",
            "Epoch 12/50\n",
            "51293/51293 [==============================] - 2s 30us/step - loss: 0.4398 - acc: 0.8089\n",
            "Epoch 13/50\n",
            "51293/51293 [==============================] - 2s 30us/step - loss: 0.4377 - acc: 0.8100\n",
            "Epoch 14/50\n",
            "51293/51293 [==============================] - 2s 30us/step - loss: 0.4339 - acc: 0.8107\n",
            "Epoch 15/50\n",
            "51293/51293 [==============================] - 2s 30us/step - loss: 0.4301 - acc: 0.8118\n",
            "Epoch 16/50\n",
            "51293/51293 [==============================] - 2s 30us/step - loss: 0.4262 - acc: 0.8122\n",
            "Epoch 17/50\n",
            "51293/51293 [==============================] - 2s 30us/step - loss: 0.4231 - acc: 0.8143\n",
            "Epoch 18/50\n",
            "51293/51293 [==============================] - 2s 30us/step - loss: 0.4191 - acc: 0.8153\n",
            "Epoch 19/50\n",
            "51293/51293 [==============================] - 2s 29us/step - loss: 0.4135 - acc: 0.8158\n",
            "Epoch 20/50\n",
            "51293/51293 [==============================] - 2s 30us/step - loss: 0.4095 - acc: 0.8177\n",
            "Epoch 21/50\n",
            "51293/51293 [==============================] - 1s 29us/step - loss: 0.4042 - acc: 0.8190\n",
            "Epoch 22/50\n",
            "51293/51293 [==============================] - 1s 29us/step - loss: 0.4006 - acc: 0.8200\n",
            "Epoch 23/50\n",
            "51293/51293 [==============================] - 2s 30us/step - loss: 0.3941 - acc: 0.8237\n",
            "Epoch 24/50\n",
            "51293/51293 [==============================] - 1s 29us/step - loss: 0.3894 - acc: 0.8242\n",
            "Epoch 25/50\n",
            "51293/51293 [==============================] - 1s 29us/step - loss: 0.3846 - acc: 0.8275\n",
            "Epoch 26/50\n",
            "51293/51293 [==============================] - 2s 30us/step - loss: 0.3802 - acc: 0.8306\n",
            "Epoch 27/50\n",
            "51293/51293 [==============================] - 1s 28us/step - loss: 0.3753 - acc: 0.8330\n",
            "Epoch 28/50\n",
            "51293/51293 [==============================] - 1s 29us/step - loss: 0.3706 - acc: 0.8357\n",
            "Epoch 29/50\n",
            "51293/51293 [==============================] - 1s 29us/step - loss: 0.3652 - acc: 0.8392\n",
            "Epoch 30/50\n",
            "51293/51293 [==============================] - 1s 29us/step - loss: 0.3619 - acc: 0.8410\n",
            "Epoch 31/50\n",
            "51293/51293 [==============================] - 1s 28us/step - loss: 0.3580 - acc: 0.8435\n",
            "Epoch 32/50\n",
            "51293/51293 [==============================] - 1s 28us/step - loss: 0.3546 - acc: 0.8465\n",
            "Epoch 33/50\n",
            "51293/51293 [==============================] - 1s 27us/step - loss: 0.3522 - acc: 0.8475\n",
            "Epoch 34/50\n",
            "51293/51293 [==============================] - 1s 27us/step - loss: 0.3504 - acc: 0.8482\n",
            "Epoch 35/50\n",
            "51293/51293 [==============================] - 1s 29us/step - loss: 0.3475 - acc: 0.8488\n",
            "Epoch 36/50\n",
            "51293/51293 [==============================] - 1s 28us/step - loss: 0.3450 - acc: 0.8505\n",
            "Epoch 37/50\n",
            "51293/51293 [==============================] - 1s 28us/step - loss: 0.3434 - acc: 0.8511\n",
            "Epoch 38/50\n",
            "51293/51293 [==============================] - 1s 28us/step - loss: 0.3398 - acc: 0.8524\n",
            "Epoch 39/50\n",
            "51293/51293 [==============================] - 1s 28us/step - loss: 0.3384 - acc: 0.8535\n",
            "Epoch 40/50\n",
            "51293/51293 [==============================] - 1s 28us/step - loss: 0.3363 - acc: 0.8546\n",
            "Epoch 41/50\n",
            "51293/51293 [==============================] - 1s 28us/step - loss: 0.3350 - acc: 0.8562\n",
            "Epoch 42/50\n",
            "51293/51293 [==============================] - 1s 28us/step - loss: 0.3306 - acc: 0.8573\n",
            "Epoch 43/50\n",
            "51293/51293 [==============================] - 1s 28us/step - loss: 0.3313 - acc: 0.8566\n",
            "Epoch 44/50\n",
            "51293/51293 [==============================] - 1s 27us/step - loss: 0.3298 - acc: 0.8582\n",
            "Epoch 45/50\n",
            "51293/51293 [==============================] - 1s 27us/step - loss: 0.3309 - acc: 0.8576\n",
            "Epoch 46/50\n",
            "51293/51293 [==============================] - 1s 27us/step - loss: 0.3296 - acc: 0.8577\n",
            "Epoch 47/50\n",
            "51293/51293 [==============================] - 1s 27us/step - loss: 0.3275 - acc: 0.8580\n",
            "Epoch 48/50\n",
            "51293/51293 [==============================] - 1s 27us/step - loss: 0.3265 - acc: 0.8600\n",
            "Epoch 49/50\n",
            "51293/51293 [==============================] - 1s 28us/step - loss: 0.3255 - acc: 0.8602\n",
            "Epoch 50/50\n",
            "51293/51293 [==============================] - 1s 27us/step - loss: 0.3228 - acc: 0.8616\n"
          ],
          "name": "stdout"
        },
        {
          "output_type": "execute_result",
          "data": {
            "text/plain": [
              "<keras.callbacks.History at 0x27083832f28>"
            ]
          },
          "metadata": {
            "tags": []
          },
          "execution_count": 108
        }
      ]
    },
    {
      "metadata": {
        "id": "zMan26OWSoxB",
        "colab_type": "text"
      },
      "cell_type": "markdown",
      "source": [
        "#### Predictions"
      ]
    },
    {
      "metadata": {
        "id": "9st2lwp5SoxC",
        "colab_type": "code",
        "colab": {},
        "outputId": "29b5a34e-b70f-4784-ef6f-a3a809a69b49"
      },
      "cell_type": "code",
      "source": [
        "test_pred=mlp_model.predict_classes(X_test)\n",
        "train_pred=mlp_model.predict_classes(X_train)"
      ],
      "execution_count": 0,
      "outputs": [
        {
          "output_type": "stream",
          "text": [
            "227351/227351 [==============================] - 5s 22us/step\n",
            "51293/51293 [==============================] - 1s 22us/step\n"
          ],
          "name": "stdout"
        }
      ]
    },
    {
      "metadata": {
        "id": "Aet3UXBpSoxG",
        "colab_type": "text"
      },
      "cell_type": "markdown",
      "source": [
        "#### Getting evaluation metrics and evaluating model performance"
      ]
    },
    {
      "metadata": {
        "id": "IldCM6qVSoxH",
        "colab_type": "code",
        "colab": {},
        "outputId": "0d218424-20e5-47a0-bf52-cd2ce1b7e855"
      },
      "cell_type": "code",
      "source": [
        "confusion_matrix_test = confusion_matrix(y_test, test_pred)\n",
        "confusion_matrix_train = confusion_matrix(y_train, train_pred)\n",
        "\n",
        "print(confusion_matrix_train)\n",
        "print(confusion_matrix_test)"
      ],
      "execution_count": 0,
      "outputs": [
        {
          "output_type": "stream",
          "text": [
            "[[36728  3272]\n",
            " [ 4005  7288]]\n",
            "[[223264   1483]\n",
            " [  2515     89]]\n"
          ],
          "name": "stdout"
        }
      ]
    },
    {
      "metadata": {
        "id": "yDjCcVE-SoxK",
        "colab_type": "text"
      },
      "cell_type": "markdown",
      "source": [
        "#### Calculate Accuracy, True Positive Rate and True Negative Rates"
      ]
    },
    {
      "metadata": {
        "id": "ycxPkD1XSoxK",
        "colab_type": "code",
        "colab": {},
        "outputId": "2f31c28b-6230-48b2-9e73-bd9c62f5a4a9"
      },
      "cell_type": "code",
      "source": [
        "Accuracy_Train=(confusion_matrix_train[0,0]+confusion_matrix_train[1,1])/(confusion_matrix_train[0,0]+confusion_matrix_train[0,1]+confusion_matrix_train[1,0]+confusion_matrix_train[1,1])\n",
        "TNR_Train= confusion_matrix_train[0,0]/(confusion_matrix_train[0,0]+confusion_matrix_train[0,1])\n",
        "TPR_Train= confusion_matrix_train[1,1]/(confusion_matrix_train[1,0]+confusion_matrix_train[1,1])\n",
        "\n",
        "print(\"Train TNR: \",TNR_Train)\n",
        "print(\"Train TPR: \",TPR_Train)\n",
        "print(\"Train Accuracy: \",Accuracy_Train)"
      ],
      "execution_count": 0,
      "outputs": [
        {
          "output_type": "stream",
          "text": [
            "Train TNR:  0.9182\n",
            "Train TPR:  0.6453555299743203\n",
            "Train Accuracy:  0.8581287895034411\n"
          ],
          "name": "stdout"
        }
      ]
    },
    {
      "metadata": {
        "id": "z7VsDMxMSoxN",
        "colab_type": "code",
        "colab": {},
        "outputId": "a97abda8-1dd0-4810-ddad-63407a114033"
      },
      "cell_type": "code",
      "source": [
        "Accuracy_Test=(confusion_matrix_test[0,0]+confusion_matrix_test[1,1])/(confusion_matrix_test[0,0]+confusion_matrix_test[0,1]+confusion_matrix_test[1,0]+confusion_matrix_test[1,1])\n",
        "TNR_Test= confusion_matrix_test[0,0]/(confusion_matrix_test[0,0] +confusion_matrix_test[0,1])\n",
        "TPR_Test= confusion_matrix_test[1,1]/(confusion_matrix_test[1,0] +confusion_matrix_test[1,1])\n",
        "\n",
        "print(\"Test TNR: \",TNR_Test)\n",
        "print(\"Test TPR: \",TPR_Test)\n",
        "print(\"Test Accuracy: \",Accuracy_Test)"
      ],
      "execution_count": 0,
      "outputs": [
        {
          "output_type": "stream",
          "text": [
            "Test TNR:  0.9934014692075979\n",
            "Test TPR:  0.03417818740399386\n",
            "Test Accuracy:  0.9824148563234822\n"
          ],
          "name": "stdout"
        }
      ]
    },
    {
      "metadata": {
        "id": "wa3mapuASoxO",
        "colab_type": "text"
      },
      "cell_type": "markdown",
      "source": [
        "#### Derive new non-linear features using autoencoder"
      ]
    },
    {
      "metadata": {
        "id": "1KsI_ptOSoxP",
        "colab_type": "code",
        "colab": {}
      },
      "cell_type": "code",
      "source": [
        "# The size of encoded and actual representations\n",
        "encoding_dim = 16 \n",
        "actual_dim = X_train.shape[1]"
      ],
      "execution_count": 0,
      "outputs": []
    },
    {
      "metadata": {
        "id": "VX2kGTO3SoxR",
        "colab_type": "code",
        "colab": {}
      },
      "cell_type": "code",
      "source": [
        "# Input placeholder\n",
        "input_img = Input(shape=(actual_dim,))\n",
        "\n",
        "# \"encoded\" is the encoded representation of the input\n",
        "encoded = Dense(encoding_dim, activation='relu')(input_img)\n",
        "\n",
        "# \"decoded\" is the lossy reconstruction of the input\n",
        "decoded = Dense(actual_dim, activation='sigmoid')(encoded)"
      ],
      "execution_count": 0,
      "outputs": []
    },
    {
      "metadata": {
        "id": "FWLrp0s1SoxT",
        "colab_type": "code",
        "colab": {}
      },
      "cell_type": "code",
      "source": [
        "# this model maps an input to its reconstruction\n",
        "autoencoder = Model(input_img, decoded)"
      ],
      "execution_count": 0,
      "outputs": []
    },
    {
      "metadata": {
        "id": "-sADht4NSoxV",
        "colab_type": "code",
        "colab": {},
        "outputId": "0e0b0cea-3293-4b0f-ed03-5eac5fea151a"
      },
      "cell_type": "code",
      "source": [
        "print(autoencoder.summary())"
      ],
      "execution_count": 0,
      "outputs": [
        {
          "output_type": "stream",
          "text": [
            "_________________________________________________________________\n",
            "Layer (type)                 Output Shape              Param #   \n",
            "=================================================================\n",
            "input_2 (InputLayer)         (None, 17)                0         \n",
            "_________________________________________________________________\n",
            "dense_17 (Dense)             (None, 16)                288       \n",
            "_________________________________________________________________\n",
            "dense_18 (Dense)             (None, 17)                289       \n",
            "=================================================================\n",
            "Total params: 577\n",
            "Trainable params: 577\n",
            "Non-trainable params: 0\n",
            "_________________________________________________________________\n",
            "None\n"
          ],
          "name": "stdout"
        }
      ]
    },
    {
      "metadata": {
        "id": "fh_8_myHSoxY",
        "colab_type": "code",
        "colab": {}
      },
      "cell_type": "code",
      "source": [
        "autoencoder.compile(optimizer='adadelta', loss='binary_crossentropy')"
      ],
      "execution_count": 0,
      "outputs": []
    },
    {
      "metadata": {
        "id": "kqQW7g1ASoxa",
        "colab_type": "code",
        "colab": {},
        "outputId": "aa547e56-beb7-43f5-de4d-03cb16bceb4f"
      },
      "cell_type": "code",
      "source": [
        "autoencoder.fit(X_train, X_train, epochs=30, batch_size=32)"
      ],
      "execution_count": 0,
      "outputs": [
        {
          "output_type": "stream",
          "text": [
            "Epoch 1/30\n",
            "51293/51293 [==============================] - 4s 72us/step - loss: -0.1241\n",
            "Epoch 2/30\n",
            "51293/51293 [==============================] - 3s 58us/step - loss: -0.5562\n",
            "Epoch 3/30\n",
            "51293/51293 [==============================] - 3s 57us/step - loss: -0.6552\n",
            "Epoch 4/30\n",
            "51293/51293 [==============================] - 3s 57us/step - loss: -0.6984\n",
            "Epoch 5/30\n",
            "51293/51293 [==============================] - 3s 53us/step - loss: -0.7278\n",
            "Epoch 6/30\n",
            "51293/51293 [==============================] - 3s 56us/step - loss: -0.7467\n",
            "Epoch 7/30\n",
            "51293/51293 [==============================] - 3s 58us/step - loss: -0.7629\n",
            "Epoch 8/30\n",
            "51293/51293 [==============================] - 3s 59us/step - loss: -0.7770\n",
            "Epoch 9/30\n",
            "51293/51293 [==============================] - 3s 58us/step - loss: -0.7856\n",
            "Epoch 10/30\n",
            "51293/51293 [==============================] - 3s 58us/step - loss: -0.7918\n",
            "Epoch 11/30\n",
            "51293/51293 [==============================] - 3s 61us/step - loss: -0.7964\n",
            "Epoch 12/30\n",
            "51293/51293 [==============================] - 3s 62us/step - loss: -0.8001\n",
            "Epoch 13/30\n",
            "51293/51293 [==============================] - 3s 64us/step - loss: -0.8031\n",
            "Epoch 14/30\n",
            "51293/51293 [==============================] - 3s 64us/step - loss: -0.8058\n",
            "Epoch 15/30\n",
            "51293/51293 [==============================] - 3s 56us/step - loss: -0.8083\n",
            "Epoch 16/30\n",
            "51293/51293 [==============================] - 3s 58us/step - loss: -0.8104\n",
            "Epoch 17/30\n",
            "51293/51293 [==============================] - 3s 57us/step - loss: -0.8123\n",
            "Epoch 18/30\n",
            "51293/51293 [==============================] - 3s 54us/step - loss: -0.8140\n",
            "Epoch 19/30\n",
            "51293/51293 [==============================] - 3s 57us/step - loss: -0.8155\n",
            "Epoch 20/30\n",
            "51293/51293 [==============================] - 3s 57us/step - loss: -0.8169\n",
            "Epoch 21/30\n",
            "51293/51293 [==============================] - 3s 56us/step - loss: -0.8182\n",
            "Epoch 22/30\n",
            "51293/51293 [==============================] - 3s 56us/step - loss: -0.8193\n",
            "Epoch 23/30\n",
            "51293/51293 [==============================] - 3s 56us/step - loss: -0.8202\n",
            "Epoch 24/30\n",
            "51293/51293 [==============================] - 3s 56us/step - loss: -0.8209\n",
            "Epoch 25/30\n",
            "51293/51293 [==============================] - 3s 55us/step - loss: -0.8217\n",
            "Epoch 26/30\n",
            "51293/51293 [==============================] - 3s 56us/step - loss: -0.8222\n",
            "Epoch 27/30\n",
            "51293/51293 [==============================] - 3s 56us/step - loss: -0.8227\n",
            "Epoch 28/30\n",
            "51293/51293 [==============================] - 3s 55us/step - loss: -0.8232\n",
            "Epoch 29/30\n",
            "51293/51293 [==============================] - 3s 55us/step - loss: -0.8235\n",
            "Epoch 30/30\n",
            "51293/51293 [==============================] - 3s 54us/step - loss: -0.8239\n"
          ],
          "name": "stdout"
        },
        {
          "output_type": "execute_result",
          "data": {
            "text/plain": [
              "<keras.callbacks.History at 0x270817fa080>"
            ]
          },
          "metadata": {
            "tags": []
          },
          "execution_count": 118
        }
      ]
    },
    {
      "metadata": {
        "id": "kXgk1gaJSoxc",
        "colab_type": "text"
      },
      "cell_type": "markdown",
      "source": [
        "Create a separate encoder model"
      ]
    },
    {
      "metadata": {
        "id": "ZFNeDG0SSoxd",
        "colab_type": "code",
        "colab": {}
      },
      "cell_type": "code",
      "source": [
        "# this model maps an input to its encoded representation\n",
        "encoder = Model(input_img, encoded)"
      ],
      "execution_count": 0,
      "outputs": []
    },
    {
      "metadata": {
        "id": "HLk04rx_Soxf",
        "colab_type": "code",
        "colab": {},
        "outputId": "459ef54f-75d1-469a-e81c-581dd3ca24b0"
      },
      "cell_type": "code",
      "source": [
        "print(encoder.summary())"
      ],
      "execution_count": 0,
      "outputs": [
        {
          "output_type": "stream",
          "text": [
            "_________________________________________________________________\n",
            "Layer (type)                 Output Shape              Param #   \n",
            "=================================================================\n",
            "input_2 (InputLayer)         (None, 17)                0         \n",
            "_________________________________________________________________\n",
            "dense_17 (Dense)             (None, 16)                288       \n",
            "=================================================================\n",
            "Total params: 288\n",
            "Trainable params: 288\n",
            "Non-trainable params: 0\n",
            "_________________________________________________________________\n",
            "None\n"
          ],
          "name": "stdout"
        }
      ]
    },
    {
      "metadata": {
        "id": "KhQxdMZASoxi",
        "colab_type": "text"
      },
      "cell_type": "markdown",
      "source": [
        "#### derive new non-linear features"
      ]
    },
    {
      "metadata": {
        "id": "gTtif-VHSoxi",
        "colab_type": "code",
        "colab": {}
      },
      "cell_type": "code",
      "source": [
        "X_train_nonLinear_features = encoder.predict(X_train)\n",
        "X_test_nonLinear_features = encoder.predict(X_test)"
      ],
      "execution_count": 0,
      "outputs": []
    },
    {
      "metadata": {
        "id": "c46nlLcZSoxn",
        "colab_type": "text"
      },
      "cell_type": "markdown",
      "source": [
        "#### Combining new non-linear features to X_train and X_test respectively"
      ]
    },
    {
      "metadata": {
        "id": "QUYYgGLhSoxo",
        "colab_type": "code",
        "colab": {}
      },
      "cell_type": "code",
      "source": [
        "X_train=np.concatenate((X_train, X_train_nonLinear_features), axis=1)\n",
        "X_test=np.concatenate((X_test, X_test_nonLinear_features), axis=1)"
      ],
      "execution_count": 0,
      "outputs": []
    },
    {
      "metadata": {
        "id": "W73laoleSoxr",
        "colab_type": "text"
      },
      "cell_type": "markdown",
      "source": [
        "#### Perceptron Model Building with both actual and non-linear features"
      ]
    },
    {
      "metadata": {
        "id": "Fy-m62QaSoxs",
        "colab_type": "code",
        "colab": {}
      },
      "cell_type": "code",
      "source": [
        "perceptron_model = Sequential()\n",
        "\n",
        "perceptron_model.add(Dense(1, input_dim=X_train.shape[1], activation='sigmoid', kernel_initializer='normal'))"
      ],
      "execution_count": 0,
      "outputs": []
    },
    {
      "metadata": {
        "id": "EcuN_6qpSoxu",
        "colab_type": "code",
        "colab": {}
      },
      "cell_type": "code",
      "source": [
        "perceptron_model.compile(loss='binary_crossentropy', optimizer='adam', metrics=['accuracy'])"
      ],
      "execution_count": 0,
      "outputs": []
    },
    {
      "metadata": {
        "id": "nkWuxCGFSoxv",
        "colab_type": "code",
        "colab": {},
        "outputId": "ab5117a4-157c-455d-956e-fd95e1877894"
      },
      "cell_type": "code",
      "source": [
        "perceptron_model.fit(X_train, y_train, epochs=50, batch_size=64)"
      ],
      "execution_count": 0,
      "outputs": [
        {
          "output_type": "stream",
          "text": [
            "Epoch 1/50\n",
            "51293/51293 [==============================] - 2s 39us/step - loss: 0.5210 - acc: 0.7776\n",
            "Epoch 2/50\n",
            "51293/51293 [==============================] - 1s 28us/step - loss: 0.5084 - acc: 0.7824\n",
            "Epoch 3/50\n",
            "51293/51293 [==============================] - 1s 28us/step - loss: 0.5063 - acc: 0.7840\n",
            "Epoch 4/50\n",
            "51293/51293 [==============================] - 1s 27us/step - loss: 0.5048 - acc: 0.7843\n",
            "Epoch 5/50\n",
            "51293/51293 [==============================] - 1s 28us/step - loss: 0.5037 - acc: 0.7854\n",
            "Epoch 6/50\n",
            "51293/51293 [==============================] - 1s 27us/step - loss: 0.5025 - acc: 0.7859\n",
            "Epoch 7/50\n",
            "51293/51293 [==============================] - 1s 27us/step - loss: 0.5016 - acc: 0.7861\n",
            "Epoch 8/50\n",
            "51293/51293 [==============================] - 1s 28us/step - loss: 0.5008 - acc: 0.7863\n",
            "Epoch 9/50\n",
            "51293/51293 [==============================] - 1s 28us/step - loss: 0.5000 - acc: 0.7867\n",
            "Epoch 10/50\n",
            "51293/51293 [==============================] - 1s 28us/step - loss: 0.4994 - acc: 0.7867\n",
            "Epoch 11/50\n",
            "51293/51293 [==============================] - 1s 27us/step - loss: 0.4989 - acc: 0.7868\n",
            "Epoch 12/50\n",
            "51293/51293 [==============================] - 1s 27us/step - loss: 0.4982 - acc: 0.7872\n",
            "Epoch 13/50\n",
            "51293/51293 [==============================] - 1s 27us/step - loss: 0.4972 - acc: 0.7872\n",
            "Epoch 14/50\n",
            "51293/51293 [==============================] - 1s 26us/step - loss: 0.4970 - acc: 0.7878\n",
            "Epoch 15/50\n",
            "51293/51293 [==============================] - 1s 27us/step - loss: 0.4964 - acc: 0.7877\n",
            "Epoch 16/50\n",
            "51293/51293 [==============================] - 1s 28us/step - loss: 0.4959 - acc: 0.7879\n",
            "Epoch 17/50\n",
            "51293/51293 [==============================] - 1s 28us/step - loss: 0.4954 - acc: 0.7883\n",
            "Epoch 18/50\n",
            "51293/51293 [==============================] - 1s 27us/step - loss: 0.4951 - acc: 0.7886\n",
            "Epoch 19/50\n",
            "51293/51293 [==============================] - 1s 27us/step - loss: 0.4946 - acc: 0.7886\n",
            "Epoch 20/50\n",
            "51293/51293 [==============================] - 1s 27us/step - loss: 0.4942 - acc: 0.7883\n",
            "Epoch 21/50\n",
            "51293/51293 [==============================] - 1s 27us/step - loss: 0.4937 - acc: 0.7890\n",
            "Epoch 22/50\n",
            "51293/51293 [==============================] - 1s 27us/step - loss: 0.4937 - acc: 0.7890\n",
            "Epoch 23/50\n",
            "51293/51293 [==============================] - 1s 27us/step - loss: 0.4933 - acc: 0.7894\n",
            "Epoch 24/50\n",
            "51293/51293 [==============================] - 1s 27us/step - loss: 0.4930 - acc: 0.7890\n",
            "Epoch 25/50\n",
            "51293/51293 [==============================] - 1s 27us/step - loss: 0.4926 - acc: 0.7893\n",
            "Epoch 26/50\n",
            "51293/51293 [==============================] - 1s 27us/step - loss: 0.4923 - acc: 0.7899\n",
            "Epoch 27/50\n",
            "51293/51293 [==============================] - 1s 26us/step - loss: 0.4921 - acc: 0.7900\n",
            "Epoch 28/50\n",
            "51293/51293 [==============================] - 1s 25us/step - loss: 0.4918 - acc: 0.7897\n",
            "Epoch 29/50\n",
            "51293/51293 [==============================] - 1s 26us/step - loss: 0.4915 - acc: 0.7899\n",
            "Epoch 30/50\n",
            "51293/51293 [==============================] - 1s 27us/step - loss: 0.4912 - acc: 0.7899\n",
            "Epoch 31/50\n",
            "51293/51293 [==============================] - 1s 26us/step - loss: 0.4910 - acc: 0.7901\n",
            "Epoch 32/50\n",
            "51293/51293 [==============================] - 1s 26us/step - loss: 0.4910 - acc: 0.7900\n",
            "Epoch 33/50\n",
            "51293/51293 [==============================] - 1s 26us/step - loss: 0.4907 - acc: 0.7903\n",
            "Epoch 34/50\n",
            "51293/51293 [==============================] - 1s 27us/step - loss: 0.4904 - acc: 0.7902\n",
            "Epoch 35/50\n",
            "51293/51293 [==============================] - 1s 26us/step - loss: 0.4901 - acc: 0.7901\n",
            "Epoch 36/50\n",
            "51293/51293 [==============================] - 1s 26us/step - loss: 0.4900 - acc: 0.7904\n",
            "Epoch 37/50\n",
            "51293/51293 [==============================] - 1s 26us/step - loss: 0.4898 - acc: 0.7904\n",
            "Epoch 38/50\n",
            "51293/51293 [==============================] - 1s 26us/step - loss: 0.4897 - acc: 0.7904\n",
            "Epoch 39/50\n",
            "51293/51293 [==============================] - 1s 25us/step - loss: 0.4895 - acc: 0.7903\n",
            "Epoch 40/50\n",
            "51293/51293 [==============================] - 1s 26us/step - loss: 0.4893 - acc: 0.7904\n",
            "Epoch 41/50\n",
            "51293/51293 [==============================] - 1s 26us/step - loss: 0.4891 - acc: 0.7908\n",
            "Epoch 42/50\n",
            "51293/51293 [==============================] - 1s 26us/step - loss: 0.4892 - acc: 0.7903\n",
            "Epoch 43/50\n",
            "51293/51293 [==============================] - 1s 26us/step - loss: 0.4889 - acc: 0.7910\n",
            "Epoch 44/50\n",
            "51293/51293 [==============================] - 1s 26us/step - loss: 0.4888 - acc: 0.7908\n",
            "Epoch 45/50\n",
            "51293/51293 [==============================] - 1s 25us/step - loss: 0.4887 - acc: 0.7908\n",
            "Epoch 46/50\n",
            "51293/51293 [==============================] - 1s 26us/step - loss: 0.4885 - acc: 0.7905\n",
            "Epoch 47/50\n",
            "51293/51293 [==============================] - 1s 25us/step - loss: 0.4883 - acc: 0.7913\n",
            "Epoch 48/50\n",
            "51293/51293 [==============================] - 1s 24us/step - loss: 0.4881 - acc: 0.7908\n",
            "Epoch 49/50\n",
            "51293/51293 [==============================] - 1s 25us/step - loss: 0.4880 - acc: 0.7907\n",
            "Epoch 50/50\n",
            "51293/51293 [==============================] - 1s 26us/step - loss: 0.4878 - acc: 0.7911\n"
          ],
          "name": "stdout"
        },
        {
          "output_type": "execute_result",
          "data": {
            "text/plain": [
              "<keras.callbacks.History at 0x270849d7748>"
            ]
          },
          "metadata": {
            "tags": []
          },
          "execution_count": 125
        }
      ]
    },
    {
      "metadata": {
        "id": "Qs3E5qORSoxz",
        "colab_type": "text"
      },
      "cell_type": "markdown",
      "source": [
        "#### Predictions"
      ]
    },
    {
      "metadata": {
        "id": "4qv3y_VCSox0",
        "colab_type": "code",
        "colab": {},
        "outputId": "cf030135-397f-4665-b778-8273235c6435"
      },
      "cell_type": "code",
      "source": [
        "test_pred=perceptron_model.predict_classes(X_test)\n",
        "train_pred=perceptron_model.predict_classes(X_train)"
      ],
      "execution_count": 0,
      "outputs": [
        {
          "output_type": "stream",
          "text": [
            "227351/227351 [==============================] - 4s 18us/step\n",
            "51293/51293 [==============================] - 1s 17us/step\n"
          ],
          "name": "stdout"
        }
      ]
    },
    {
      "metadata": {
        "id": "lAVzbmH_Sox5",
        "colab_type": "text"
      },
      "cell_type": "markdown",
      "source": [
        "#### Getting evaluation metrics and evaluating model performance"
      ]
    },
    {
      "metadata": {
        "id": "45Ex3YQFSox5",
        "colab_type": "code",
        "colab": {},
        "outputId": "ae279688-0e29-4a4d-e36e-8c84786a5a54"
      },
      "cell_type": "code",
      "source": [
        "confusion_matrix_test = confusion_matrix(y_test, test_pred)\n",
        "confusion_matrix_train = confusion_matrix(y_train, train_pred)\n",
        "\n",
        "print(confusion_matrix_train)\n",
        "print(confusion_matrix_test)"
      ],
      "execution_count": 0,
      "outputs": [
        {
          "output_type": "stream",
          "text": [
            "[[39794   206]\n",
            " [10514   779]]\n",
            "[[217329   7418]\n",
            " [  1455   1149]]\n"
          ],
          "name": "stdout"
        }
      ]
    },
    {
      "metadata": {
        "id": "Cbiv53J-Sox_",
        "colab_type": "text"
      },
      "cell_type": "markdown",
      "source": [
        "#### Calculate Accuracy, True Positive Rate and True Negative Rates"
      ]
    },
    {
      "metadata": {
        "id": "UIOt6la7SoyF",
        "colab_type": "code",
        "colab": {},
        "outputId": "3daf5d7b-4b0f-4b2a-ca71-5a3b7f3e38e0"
      },
      "cell_type": "code",
      "source": [
        "Accuracy_Train=(confusion_matrix_train[0,0]+confusion_matrix_train[1,1])/(confusion_matrix_train[0,0]+confusion_matrix_train[0,1]+confusion_matrix_train[1,0]+confusion_matrix_train[1,1])\n",
        "TNR_Train= confusion_matrix_train[0,0]/(confusion_matrix_train[0,0]+confusion_matrix_train[0,1])\n",
        "TPR_Train= confusion_matrix_train[1,1]/(confusion_matrix_train[1,0]+confusion_matrix_train[1,1])\n",
        "\n",
        "print(\"Train TNR: \",TNR_Train)\n",
        "print(\"Train TPR: \",TPR_Train)\n",
        "print(\"Train Accuracy: \",Accuracy_Train)"
      ],
      "execution_count": 0,
      "outputs": [
        {
          "output_type": "stream",
          "text": [
            "Train TNR:  0.99485\n",
            "Train TPR:  0.0689807845568051\n",
            "Train Accuracy:  0.7910046205135204\n"
          ],
          "name": "stdout"
        }
      ]
    },
    {
      "metadata": {
        "id": "L7caf3nCSoyP",
        "colab_type": "code",
        "colab": {},
        "outputId": "d2e8be2f-af78-4148-d15a-e3c53403f9be"
      },
      "cell_type": "code",
      "source": [
        "Accuracy_Test=(confusion_matrix_test[0,0]+confusion_matrix_test[1,1])/(confusion_matrix_test[0,0]+confusion_matrix_test[0,1]+confusion_matrix_test[1,0]+confusion_matrix_test[1,1])\n",
        "TNR_Test= confusion_matrix_test[0,0]/(confusion_matrix_test[0,0] +confusion_matrix_test[0,1])\n",
        "TPR_Test= confusion_matrix_test[1,1]/(confusion_matrix_test[1,0] +confusion_matrix_test[1,1])\n",
        "\n",
        "print(\"Test TNR: \",TNR_Test)\n",
        "print(\"Test TPR: \",TPR_Test)\n",
        "print(\"Test Accuracy: \",Accuracy_Test)"
      ],
      "execution_count": 0,
      "outputs": [
        {
          "output_type": "stream",
          "text": [
            "Test TNR:  0.9669939976951861\n",
            "Test TPR:  0.4412442396313364\n",
            "Test Accuracy:  0.9609722411601445\n"
          ],
          "name": "stdout"
        }
      ]
    }
  ]
}